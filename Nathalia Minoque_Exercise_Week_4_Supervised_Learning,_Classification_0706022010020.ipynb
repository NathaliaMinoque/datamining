{
 "cells": [
  {
   "cell_type": "markdown",
   "metadata": {
    "id": "59lmf9GN_pz9"
   },
   "source": [
    "#Week 4: Supervised Learning - Classification - Iris\n",
    "-------------------------------------\n",
    "Lab exercise kali ini menggunakan dataset iris:\n",
    "https://raw.githubusercontent.com/catharinamega/Data-Mining-ISB-2020/main/Week%204/iris.csv\n",
    "\n",
    "Lakukan klasifikasi pada dataset tersebut dengan menggunakan 3 cara: Logistic Regression, Naive Bayes, dan K-Nearest Neighbor (dengan k=5)"
   ]
  },
  {
   "cell_type": "markdown",
   "metadata": {
    "id": "D-_Rri1ABBzs"
   },
   "source": [
    "## Import library"
   ]
  },
  {
   "cell_type": "code",
   "execution_count": 155,
   "metadata": {
    "id": "o7qqljwHAty2"
   },
   "outputs": [],
   "source": [
    "import numpy as np\n",
    "import matplotlib.pyplot as plt\n",
    "import pandas as pd\n",
    "import seaborn as sns\n",
    "from sklearn.model_selection import train_test_split\n",
    "from sklearn import metrics\n",
    "from sklearn.naive_bayes import GaussianNB\n",
    "from sklearn.neighbors import KNeighborsClassifier\n",
    "from sklearn.linear_model import LogisticRegression"
   ]
  },
  {
   "cell_type": "markdown",
   "metadata": {
    "id": "SCknVHJuBFWF"
   },
   "source": [
    "## Load Dataset"
   ]
  },
  {
   "cell_type": "code",
   "execution_count": 156,
   "metadata": {
    "colab": {
     "base_uri": "https://localhost:8080/",
     "height": 206
    },
    "id": "r9FYMEXZAy0a",
    "outputId": "005ba917-33cf-4a67-9808-0679ba293fca"
   },
   "outputs": [
    {
     "data": {
      "text/html": [
       "<div>\n",
       "<style scoped>\n",
       "    .dataframe tbody tr th:only-of-type {\n",
       "        vertical-align: middle;\n",
       "    }\n",
       "\n",
       "    .dataframe tbody tr th {\n",
       "        vertical-align: top;\n",
       "    }\n",
       "\n",
       "    .dataframe thead th {\n",
       "        text-align: right;\n",
       "    }\n",
       "</style>\n",
       "<table border=\"1\" class=\"dataframe\">\n",
       "  <thead>\n",
       "    <tr style=\"text-align: right;\">\n",
       "      <th></th>\n",
       "      <th>sepal_length</th>\n",
       "      <th>sepal_width</th>\n",
       "      <th>petal_length</th>\n",
       "      <th>petal_width</th>\n",
       "      <th>species</th>\n",
       "    </tr>\n",
       "  </thead>\n",
       "  <tbody>\n",
       "    <tr>\n",
       "      <th>0</th>\n",
       "      <td>5.1</td>\n",
       "      <td>3.5</td>\n",
       "      <td>1.4</td>\n",
       "      <td>0.2</td>\n",
       "      <td>setosa</td>\n",
       "    </tr>\n",
       "    <tr>\n",
       "      <th>1</th>\n",
       "      <td>4.9</td>\n",
       "      <td>3.0</td>\n",
       "      <td>1.4</td>\n",
       "      <td>0.2</td>\n",
       "      <td>setosa</td>\n",
       "    </tr>\n",
       "    <tr>\n",
       "      <th>2</th>\n",
       "      <td>4.7</td>\n",
       "      <td>3.2</td>\n",
       "      <td>1.3</td>\n",
       "      <td>0.2</td>\n",
       "      <td>setosa</td>\n",
       "    </tr>\n",
       "    <tr>\n",
       "      <th>3</th>\n",
       "      <td>4.6</td>\n",
       "      <td>3.1</td>\n",
       "      <td>1.5</td>\n",
       "      <td>0.2</td>\n",
       "      <td>setosa</td>\n",
       "    </tr>\n",
       "    <tr>\n",
       "      <th>4</th>\n",
       "      <td>5.0</td>\n",
       "      <td>3.6</td>\n",
       "      <td>1.4</td>\n",
       "      <td>0.2</td>\n",
       "      <td>setosa</td>\n",
       "    </tr>\n",
       "  </tbody>\n",
       "</table>\n",
       "</div>"
      ],
      "text/plain": [
       "   sepal_length  sepal_width  petal_length  petal_width species\n",
       "0           5.1          3.5           1.4          0.2  setosa\n",
       "1           4.9          3.0           1.4          0.2  setosa\n",
       "2           4.7          3.2           1.3          0.2  setosa\n",
       "3           4.6          3.1           1.5          0.2  setosa\n",
       "4           5.0          3.6           1.4          0.2  setosa"
      ]
     },
     "execution_count": 156,
     "metadata": {},
     "output_type": "execute_result"
    }
   ],
   "source": [
    "# Read CSV\n",
    "url = \"https://raw.githubusercontent.com/catharinamega/Data-Mining-ISB-2020/main/Week%204/iris.csv\"\n",
    "df = pd.read_csv(url)\n",
    "df.head()"
   ]
  },
  {
   "cell_type": "markdown",
   "metadata": {
    "id": "hv8_UYnnBTYx"
   },
   "source": [
    "## Data Preprocessing"
   ]
  },
  {
   "cell_type": "markdown",
   "metadata": {
    "id": "shWWY2QSGewj"
   },
   "source": [
    "Periksa apakah ada baris yang duplikat\n",
    "\n"
   ]
  },
  {
   "cell_type": "code",
   "execution_count": 157,
   "metadata": {
    "colab": {
     "base_uri": "https://localhost:8080/"
    },
    "id": "wJ6hGSssFRBC",
    "outputId": "116192b4-8222-4830-e17e-bfd0bcd9c01f"
   },
   "outputs": [
    {
     "data": {
      "text/plain": [
       "False    147\n",
       "True       3\n",
       "dtype: int64"
      ]
     },
     "execution_count": 157,
     "metadata": {},
     "output_type": "execute_result"
    }
   ],
   "source": [
    "df.duplicated().value_counts()"
   ]
  },
  {
   "cell_type": "markdown",
   "metadata": {
    "id": "vSvEybiKLomQ"
   },
   "source": [
    "Periksa apakah ada missing values"
   ]
  },
  {
   "cell_type": "code",
   "execution_count": 158,
   "metadata": {
    "colab": {
     "base_uri": "https://localhost:8080/"
    },
    "id": "RlNt-lKmLw_X",
    "outputId": "d1e322ef-6681-4f1a-a542-c563af6601b2"
   },
   "outputs": [
    {
     "data": {
      "text/plain": [
       "sepal_length    0\n",
       "sepal_width     0\n",
       "petal_length    0\n",
       "petal_width     0\n",
       "species         0\n",
       "dtype: int64"
      ]
     },
     "execution_count": 158,
     "metadata": {},
     "output_type": "execute_result"
    }
   ],
   "source": [
    "df.isnull().sum()"
   ]
  },
  {
   "cell_type": "markdown",
   "metadata": {
    "id": "6Q8ZWmLAID5m"
   },
   "source": [
    "Periksa outlier dengan boxplot untuk setiap kolom feature"
   ]
  },
  {
   "cell_type": "code",
   "execution_count": 159,
   "metadata": {
    "colab": {
     "base_uri": "https://localhost:8080/",
     "height": 299
    },
    "id": "g8uA0mTDIC3w",
    "outputId": "644b449b-9507-40ea-a032-dece636a6672"
   },
   "outputs": [
    {
     "data": {
      "text/plain": [
       "<AxesSubplot:xlabel='species', ylabel='petal_width'>"
      ]
     },
     "execution_count": 159,
     "metadata": {},
     "output_type": "execute_result"
    },
    {
     "data": {
      "image/png": "[encoded data removed]",
      "text/plain": [
       "<Figure size 432x288 with 4 Axes>"
      ]
     },
     "metadata": {
      "needs_background": "light"
     },
     "output_type": "display_data"
    }
   ],
   "source": [
    "fig, axs = plt.subplots(2,2)\n",
    "sns.boxplot(data=df, x=df[\"species\"], y=df[\"sepal_length\"], ax=axs[0,0])\n",
    "sns.boxplot(data=df, x=df[\"species\"], y=df[\"sepal_width\"], ax=axs[0,1])\n",
    "sns.boxplot(data=df, x=df[\"species\"], y=df[\"petal_length\"], ax=axs[1,0])\n",
    "sns.boxplot(data=df, x=df[\"species\"], y=df[\"petal_width\"], ax=axs[1,1])"
   ]
  },
  {
   "cell_type": "markdown",
   "metadata": {
    "id": "x1Jp_nX3DoIN"
   },
   "source": [
    "Pisahkan dataset menjadi variabel independen dan variabel dependen"
   ]
  },
  {
   "cell_type": "code",
   "execution_count": 174,
   "metadata": {
    "id": "1AAkxvSgB4ao"
   },
   "outputs": [],
   "source": [
    "X = df.iloc[:,:-1]\n",
    "y = df.iloc[:,-1]"
   ]
  },
  {
   "cell_type": "markdown",
   "metadata": {
    "id": "tM7meP78DvRO"
   },
   "source": [
    "Pisahkan dataset train dan test dataset, dengan ukuran dataset test 0.1"
   ]
  },
  {
   "cell_type": "code",
   "execution_count": 161,
   "metadata": {
    "id": "FFg5hkAMEyCo"
   },
   "outputs": [],
   "source": [
    "X_train, X_test, y_train, y_test = train_test_split(X, y, test_size = 0.1)"
   ]
  },
  {
   "cell_type": "markdown",
   "metadata": {
    "id": "i8kBslhcGv3A"
   },
   "source": [
    "Lakukan fitur scaling pada variabel X_train dan X_test. "
   ]
  },
  {
   "cell_type": "code",
   "execution_count": 162,
   "metadata": {
    "id": "AiCPrBd4JyDf"
   },
   "outputs": [],
   "source": [
    "from sklearn.preprocessing import StandardScaler\n",
    "\n",
    "sc = StandardScaler()\n",
    "X_train = sc.fit_transform(X_train)\n",
    "X_test  = sc.fit_transform(X_test)"
   ]
  },
  {
   "cell_type": "markdown",
   "metadata": {
    "id": "M9Wnfyt7ApS7"
   },
   "source": [
    "#Logistic Regression"
   ]
  },
  {
   "cell_type": "markdown",
   "metadata": {
    "id": "mN-9NfADFAmn"
   },
   "source": [
    "Bangun model dan ukur accuracy nya"
   ]
  },
  {
   "cell_type": "code",
   "execution_count": 163,
   "metadata": {
    "colab": {
     "base_uri": "https://localhost:8080/"
    },
    "id": "7nNOFcp_FETB",
    "outputId": "d7ccedd7-3984-4042-db0a-91e8eda9dba1"
   },
   "outputs": [
    {
     "data": {
      "text/plain": [
       "LogisticRegression(random_state=0)"
      ]
     },
     "execution_count": 163,
     "metadata": {},
     "output_type": "execute_result"
    }
   ],
   "source": [
    "log_classifier = LogisticRegression(random_state = 0)\n",
    "log_classifier.fit(X_train, y_train)"
   ]
  },
  {
   "cell_type": "markdown",
   "metadata": {
    "id": "zZyes8UOVhsy"
   },
   "source": [
    "Uji model dengan dataset test"
   ]
  },
  {
   "cell_type": "code",
   "execution_count": 164,
   "metadata": {
    "colab": {
     "base_uri": "https://localhost:8080/"
    },
    "id": "W1W8JtIXVlRF",
    "outputId": "725e39b6-f43e-4ac4-c006-f49aff2570ab"
   },
   "outputs": [
    {
     "name": "stdout",
     "output_type": "stream",
     "text": [
      "['versicolor' 'versicolor' 'versicolor' 'setosa' 'setosa' 'versicolor'\n",
      " 'versicolor' 'versicolor' 'setosa' 'virginica' 'virginica' 'virginica'\n",
      " 'versicolor' 'versicolor' 'versicolor']\n"
     ]
    }
   ],
   "source": [
    "log_y_pred = log_classifier.predict(X_test)\n",
    "print(log_y_pred)"
   ]
  },
  {
   "cell_type": "code",
   "execution_count": 165,
   "metadata": {
    "colab": {
     "base_uri": "https://localhost:8080/"
    },
    "id": "62aDHBp_O_rp",
    "outputId": "6786194d-7d06-4842-e8b7-8793c0c95c23"
   },
   "outputs": [
    {
     "name": "stdout",
     "output_type": "stream",
     "text": [
      "Confusion Matrix:\n",
      " [[3 0 0]\n",
      " [0 9 0]\n",
      " [0 0 3]]\n",
      "Log Accuracy Score:  1.0\n"
     ]
    }
   ],
   "source": [
    "from sklearn.metrics import confusion_matrix, accuracy_score\n",
    "log_cm = confusion_matrix(y_test, log_y_pred)\n",
    "print(\"Confusion Matrix:\\n\", log_cm)\n",
    "print(\"Log Accuracy Score: \", accuracy_score(y_test, log_y_pred))"
   ]
  },
  {
   "cell_type": "markdown",
   "metadata": {
    "id": "SS6eNQWKLdpn"
   },
   "source": [
    "# Naive Bayes\n",
    "\n",
    "Buat model persamaan berdasarkan data training yang sudah dibuat pada tahap preprocess"
   ]
  },
  {
   "cell_type": "code",
   "execution_count": 166,
   "metadata": {
    "colab": {
     "base_uri": "https://localhost:8080/"
    },
    "id": "tKgc72ocP3IB",
    "outputId": "8fe5dd58-3f84-4d0c-b04f-8f7fe444dda6"
   },
   "outputs": [
    {
     "data": {
      "text/plain": [
       "GaussianNB()"
      ]
     },
     "execution_count": 166,
     "metadata": {},
     "output_type": "execute_result"
    }
   ],
   "source": [
    "nb_classifier = GaussianNB()\n",
    "nb_classifier.fit(X_train, y_train)"
   ]
  },
  {
   "cell_type": "markdown",
   "metadata": {
    "id": "4kjfj39PQch0"
   },
   "source": [
    "Uji hasil model dengan data test"
   ]
  },
  {
   "cell_type": "code",
   "execution_count": 167,
   "metadata": {
    "colab": {
     "base_uri": "https://localhost:8080/"
    },
    "id": "XlKc_hcrQiwS",
    "outputId": "c03d4b2a-6964-4cce-be56-268ca473ebeb"
   },
   "outputs": [
    {
     "name": "stdout",
     "output_type": "stream",
     "text": [
      "['versicolor' 'versicolor' 'versicolor' 'setosa' 'setosa' 'versicolor'\n",
      " 'versicolor' 'versicolor' 'setosa' 'virginica' 'virginica' 'virginica'\n",
      " 'versicolor' 'versicolor' 'versicolor']\n"
     ]
    }
   ],
   "source": [
    "nb_y_pred = nb_classifier.predict(X_test)\n",
    "print(nb_y_pred)"
   ]
  },
  {
   "cell_type": "markdown",
   "metadata": {
    "id": "BVSh48SQQsAy"
   },
   "source": [
    "Ukur akurasi dari model persamaan Naive Bayes Classifier"
   ]
  },
  {
   "cell_type": "code",
   "execution_count": 168,
   "metadata": {
    "colab": {
     "base_uri": "https://localhost:8080/"
    },
    "id": "wH6jeQxqQjYo",
    "outputId": "e648a302-804f-4aa9-ff70-dd8556cf8b4d"
   },
   "outputs": [
    {
     "name": "stdout",
     "output_type": "stream",
     "text": [
      "Confusion Matrix:\n",
      " [[3 0 0]\n",
      " [0 9 0]\n",
      " [0 0 3]]\n",
      "Log Accuracy Score:  1.0\n"
     ]
    }
   ],
   "source": [
    "nb_cm = confusion_matrix(y_test, nb_y_pred)\n",
    "print(\"Confusion Matrix:\\n\", nb_cm)\n",
    "print(\"Log Accuracy Score: \", accuracy_score(y_test, nb_y_pred))"
   ]
  },
  {
   "cell_type": "markdown",
   "metadata": {
    "id": "WIB_g5-BRSsu"
   },
   "source": [
    "# K-Nearest Neighbour (K-NN) Classifier"
   ]
  },
  {
   "cell_type": "markdown",
   "metadata": {
    "id": "WwzQ0Xo5Rexr"
   },
   "source": [
    "Buatlah model KNN berdasarkan data training yang sudah dibuat di tahap preprocess, gunakan metric pengukuran jarak 'euclidean'"
   ]
  },
  {
   "cell_type": "code",
   "execution_count": 169,
   "metadata": {
    "colab": {
     "base_uri": "https://localhost:8080/"
    },
    "id": "_ESV58YzRQe4",
    "outputId": "25530154-99e7-4552-b849-0a2d473f18c5"
   },
   "outputs": [
    {
     "data": {
      "text/plain": [
       "KNeighborsClassifier(metric='euclidean')"
      ]
     },
     "execution_count": 169,
     "metadata": {},
     "output_type": "execute_result"
    }
   ],
   "source": [
    "knn_classifier = KNeighborsClassifier(metric=\"euclidean\", n_neighbors=5, p=2)\n",
    "knn_classifier.fit(X_train, y_train)"
   ]
  },
  {
   "cell_type": "markdown",
   "metadata": {
    "id": "JvkdoXUpTYmA"
   },
   "source": [
    "Uji model dengan data test"
   ]
  },
  {
   "cell_type": "code",
   "execution_count": 170,
   "metadata": {
    "colab": {
     "base_uri": "https://localhost:8080/"
    },
    "id": "jcmAu9Y2TcME",
    "outputId": "432c128c-3a16-46c8-8467-fa48bf6e40fc"
   },
   "outputs": [
    {
     "name": "stdout",
     "output_type": "stream",
     "text": [
      "['versicolor' 'versicolor' 'versicolor' 'setosa' 'setosa' 'versicolor'\n",
      " 'versicolor' 'versicolor' 'setosa' 'virginica' 'virginica' 'virginica'\n",
      " 'versicolor' 'versicolor' 'versicolor']\n"
     ]
    }
   ],
   "source": [
    "knn_y_pred = knn_classifier.predict(X_test)\n",
    "print(knn_y_pred)"
   ]
  },
  {
   "cell_type": "markdown",
   "metadata": {
    "id": "jOGui9qYRxMv"
   },
   "source": [
    "Ukur akurasi dari model K-Nearest Neighbor"
   ]
  },
  {
   "cell_type": "code",
   "execution_count": 171,
   "metadata": {
    "colab": {
     "base_uri": "https://localhost:8080/"
    },
    "id": "lLMIOnTJS37y",
    "outputId": "74dcd0a0-8b6a-4e2a-fd50-9d0ace20b934"
   },
   "outputs": [
    {
     "name": "stdout",
     "output_type": "stream",
     "text": [
      "Confusion Matrix:\n",
      " [[3 0 0]\n",
      " [0 9 0]\n",
      " [0 0 3]]\n",
      "Log Accuracy Score:  1.0\n"
     ]
    }
   ],
   "source": [
    "knn_cm = confusion_matrix(y_test, knn_y_pred)\n",
    "print(\"Confusion Matrix:\\n\", knn_cm)\n",
    "print(\"Log Accuracy Score: \", accuracy_score(y_test, knn_y_pred))"
   ]
  },
  {
   "cell_type": "markdown",
   "metadata": {
    "id": "NSHLmIIeT3jP"
   },
   "source": [
    "#Kesimpulan\n",
    "Dari 3 model klasifikasi di atas (Logistic Regression, Naive Bayes, K-Nearest Neighbor) model klasifikasi dengan akurasi tertinggi adalah ketiganya, yaitu Logistic Regression, Naive Bayes, K-Nearest Neighbor dengan akurasi 1.0"
   ]
  }
 ],
 "metadata": {
  "colab": {
   "collapsed_sections": [],
   "provenance": [],
   "toc_visible": true
  },
  "kernelspec": {
   "display_name": "Python 3",
   "language": "python",
   "name": "python3"
  },
  "language_info": {
   "codemirror_mode": {
    "name": "ipython",
    "version": 3
   },
   "file_extension": ".py",
   "mimetype": "text/x-python",
   "name": "python",
   "nbconvert_exporter": "python",
   "pygments_lexer": "ipython3",
   "version": "3.8.8"
  }
 },
 "nbformat": 4,
 "nbformat_minor": 1
}
