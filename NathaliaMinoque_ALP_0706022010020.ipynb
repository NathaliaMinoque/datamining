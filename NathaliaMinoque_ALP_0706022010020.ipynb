{
 "cells": [
  {
   "cell_type": "markdown",
   "id": "05b822dd",
   "metadata": {},
   "source": [
    "# Data Preprocessing"
   ]
  },
  {
   "cell_type": "code",
   "execution_count": 184,
   "id": "93ebd34c",
   "metadata": {},
   "outputs": [],
   "source": [
    "# import library\n",
    "import numpy as np\n",
    "import pandas as pd\n",
    "import matplotlib.pyplot as plt\n",
    "import seaborn as sns\n",
    "from sklearn.impute import SimpleImputer\n",
    "from imblearn.over_sampling import SMOTE\n",
    "from sklearn.metrics import mean_squared_error, mean_absolute_percentage_error, r2_score\n",
    "\n",
    "import scipy.cluster.hierarchy as sch\n",
    "from sklearn.cluster import AgglomerativeClustering, KMeans"
   ]
  },
  {
   "cell_type": "code",
   "execution_count": 185,
   "id": "15281750",
   "metadata": {},
   "outputs": [
    {
     "data": {
      "text/html": [
       "<div>\n",
       "<style scoped>\n",
       "    .dataframe tbody tr th:only-of-type {\n",
       "        vertical-align: middle;\n",
       "    }\n",
       "\n",
       "    .dataframe tbody tr th {\n",
       "        vertical-align: top;\n",
       "    }\n",
       "\n",
       "    .dataframe thead th {\n",
       "        text-align: right;\n",
       "    }\n",
       "</style>\n",
       "<table border=\"1\" class=\"dataframe\">\n",
       "  <thead>\n",
       "    <tr style=\"text-align: right;\">\n",
       "      <th></th>\n",
       "      <th>gender</th>\n",
       "      <th>age</th>\n",
       "      <th>Time</th>\n",
       "      <th>Number_of_Warts</th>\n",
       "      <th>Type</th>\n",
       "      <th>Area</th>\n",
       "      <th>induration_diameter</th>\n",
       "      <th>Result_of_Treatment</th>\n",
       "    </tr>\n",
       "  </thead>\n",
       "  <tbody>\n",
       "    <tr>\n",
       "      <th>0</th>\n",
       "      <td>1</td>\n",
       "      <td>15</td>\n",
       "      <td>11.00</td>\n",
       "      <td>6.0</td>\n",
       "      <td>1.0</td>\n",
       "      <td>30</td>\n",
       "      <td>25.0</td>\n",
       "      <td>0</td>\n",
       "    </tr>\n",
       "    <tr>\n",
       "      <th>1</th>\n",
       "      <td>1</td>\n",
       "      <td>27</td>\n",
       "      <td>11.75</td>\n",
       "      <td>NaN</td>\n",
       "      <td>1.0</td>\n",
       "      <td>208</td>\n",
       "      <td>6.0</td>\n",
       "      <td>0</td>\n",
       "    </tr>\n",
       "    <tr>\n",
       "      <th>2</th>\n",
       "      <td>1</td>\n",
       "      <td>32</td>\n",
       "      <td>12.00</td>\n",
       "      <td>9.0</td>\n",
       "      <td>1.0</td>\n",
       "      <td>43</td>\n",
       "      <td>50.0</td>\n",
       "      <td>0</td>\n",
       "    </tr>\n",
       "    <tr>\n",
       "      <th>3</th>\n",
       "      <td>1</td>\n",
       "      <td>33</td>\n",
       "      <td>1.75</td>\n",
       "      <td>7.0</td>\n",
       "      <td>2.0</td>\n",
       "      <td>379</td>\n",
       "      <td>7.0</td>\n",
       "      <td>0</td>\n",
       "    </tr>\n",
       "    <tr>\n",
       "      <th>4</th>\n",
       "      <td>1</td>\n",
       "      <td>34</td>\n",
       "      <td>5.00</td>\n",
       "      <td>7.0</td>\n",
       "      <td>3.0</td>\n",
       "      <td>64</td>\n",
       "      <td>7.0</td>\n",
       "      <td>0</td>\n",
       "    </tr>\n",
       "  </tbody>\n",
       "</table>\n",
       "</div>"
      ],
      "text/plain": [
       "   gender  age   Time  Number_of_Warts  Type  Area  induration_diameter  \\\n",
       "0       1   15  11.00              6.0   1.0    30                 25.0   \n",
       "1       1   27  11.75              NaN   1.0   208                  6.0   \n",
       "2       1   32  12.00              9.0   1.0    43                 50.0   \n",
       "3       1   33   1.75              7.0   2.0   379                  7.0   \n",
       "4       1   34   5.00              7.0   3.0    64                  7.0   \n",
       "\n",
       "   Result_of_Treatment  \n",
       "0                    0  \n",
       "1                    0  \n",
       "2                    0  \n",
       "3                    0  \n",
       "4                    0  "
      ]
     },
     "execution_count": 185,
     "metadata": {},
     "output_type": "execute_result"
    }
   ],
   "source": [
    "# import dataset\n",
    "df = pd.read_csv('https://raw.githubusercontent.com/NathaliaMinoque/datamining/main/Dataset_Terapi_Kelenjar_Getah_Bening.csv')\n",
    "df.head()"
   ]
  },
  {
   "cell_type": "code",
   "execution_count": 186,
   "id": "d4e5f9aa",
   "metadata": {},
   "outputs": [
    {
     "data": {
      "text/html": [
       "<div>\n",
       "<style scoped>\n",
       "    .dataframe tbody tr th:only-of-type {\n",
       "        vertical-align: middle;\n",
       "    }\n",
       "\n",
       "    .dataframe tbody tr th {\n",
       "        vertical-align: top;\n",
       "    }\n",
       "\n",
       "    .dataframe thead th {\n",
       "        text-align: right;\n",
       "    }\n",
       "</style>\n",
       "<table border=\"1\" class=\"dataframe\">\n",
       "  <thead>\n",
       "    <tr style=\"text-align: right;\">\n",
       "      <th></th>\n",
       "      <th>gender</th>\n",
       "      <th>age</th>\n",
       "      <th>time</th>\n",
       "      <th>number_of_warts</th>\n",
       "      <th>type</th>\n",
       "      <th>area</th>\n",
       "      <th>induration_diameter</th>\n",
       "      <th>treatment_result</th>\n",
       "    </tr>\n",
       "  </thead>\n",
       "  <tbody>\n",
       "    <tr>\n",
       "      <th>0</th>\n",
       "      <td>1</td>\n",
       "      <td>15</td>\n",
       "      <td>11.00</td>\n",
       "      <td>6.0</td>\n",
       "      <td>1.0</td>\n",
       "      <td>30</td>\n",
       "      <td>25.0</td>\n",
       "      <td>0</td>\n",
       "    </tr>\n",
       "    <tr>\n",
       "      <th>1</th>\n",
       "      <td>1</td>\n",
       "      <td>27</td>\n",
       "      <td>11.75</td>\n",
       "      <td>NaN</td>\n",
       "      <td>1.0</td>\n",
       "      <td>208</td>\n",
       "      <td>6.0</td>\n",
       "      <td>0</td>\n",
       "    </tr>\n",
       "    <tr>\n",
       "      <th>2</th>\n",
       "      <td>1</td>\n",
       "      <td>32</td>\n",
       "      <td>12.00</td>\n",
       "      <td>9.0</td>\n",
       "      <td>1.0</td>\n",
       "      <td>43</td>\n",
       "      <td>50.0</td>\n",
       "      <td>0</td>\n",
       "    </tr>\n",
       "    <tr>\n",
       "      <th>3</th>\n",
       "      <td>1</td>\n",
       "      <td>33</td>\n",
       "      <td>1.75</td>\n",
       "      <td>7.0</td>\n",
       "      <td>2.0</td>\n",
       "      <td>379</td>\n",
       "      <td>7.0</td>\n",
       "      <td>0</td>\n",
       "    </tr>\n",
       "    <tr>\n",
       "      <th>4</th>\n",
       "      <td>1</td>\n",
       "      <td>34</td>\n",
       "      <td>5.00</td>\n",
       "      <td>7.0</td>\n",
       "      <td>3.0</td>\n",
       "      <td>64</td>\n",
       "      <td>7.0</td>\n",
       "      <td>0</td>\n",
       "    </tr>\n",
       "  </tbody>\n",
       "</table>\n",
       "</div>"
      ],
      "text/plain": [
       "   gender  age   time  number_of_warts  type  area  induration_diameter  \\\n",
       "0       1   15  11.00              6.0   1.0    30                 25.0   \n",
       "1       1   27  11.75              NaN   1.0   208                  6.0   \n",
       "2       1   32  12.00              9.0   1.0    43                 50.0   \n",
       "3       1   33   1.75              7.0   2.0   379                  7.0   \n",
       "4       1   34   5.00              7.0   3.0    64                  7.0   \n",
       "\n",
       "   treatment_result  \n",
       "0                 0  \n",
       "1                 0  \n",
       "2                 0  \n",
       "3                 0  \n",
       "4                 0  "
      ]
     },
     "execution_count": 186,
     "metadata": {},
     "output_type": "execute_result"
    }
   ],
   "source": [
    "# rename dataset\n",
    "df.rename(columns={'Time': 'time', 'Number_of_Warts': 'number_of_warts', 'Type': 'type', 'Area': 'area', 'Result_of_Treatment': 'treatment_result'}, inplace=True)\n",
    "df.head()"
   ]
  },
  {
   "cell_type": "code",
   "execution_count": 187,
   "id": "e89ed4a2",
   "metadata": {},
   "outputs": [
    {
     "name": "stdout",
     "output_type": "stream",
     "text": [
      "<class 'pandas.core.frame.DataFrame'>\n",
      "RangeIndex: 90 entries, 0 to 89\n",
      "Data columns (total 8 columns):\n",
      " #   Column               Non-Null Count  Dtype  \n",
      "---  ------               --------------  -----  \n",
      " 0   gender               90 non-null     int64  \n",
      " 1   age                  90 non-null     int64  \n",
      " 2   time                 87 non-null     float64\n",
      " 3   number_of_warts      89 non-null     float64\n",
      " 4   type                 85 non-null     float64\n",
      " 5   area                 90 non-null     int64  \n",
      " 6   induration_diameter  88 non-null     float64\n",
      " 7   treatment_result     90 non-null     int64  \n",
      "dtypes: float64(4), int64(4)\n",
      "memory usage: 5.8 KB\n"
     ]
    }
   ],
   "source": [
    "# info dataset untuk mengetahui tipe data\n",
    "df.info()"
   ]
  },
  {
   "cell_type": "code",
   "execution_count": 188,
   "id": "073c6ab1",
   "metadata": {},
   "outputs": [
    {
     "data": {
      "text/plain": [
       "0"
      ]
     },
     "execution_count": 188,
     "metadata": {},
     "output_type": "execute_result"
    }
   ],
   "source": [
    "# duplicated data\n",
    "df.duplicated().sum() "
   ]
  },
  {
   "cell_type": "code",
   "execution_count": 189,
   "id": "81097e98",
   "metadata": {},
   "outputs": [
    {
     "data": {
      "text/plain": [
       "gender                 0\n",
       "age                    0\n",
       "time                   3\n",
       "number_of_warts        1\n",
       "type                   5\n",
       "area                   0\n",
       "induration_diameter    2\n",
       "treatment_result       0\n",
       "dtype: int64"
      ]
     },
     "execution_count": 189,
     "metadata": {},
     "output_type": "execute_result"
    }
   ],
   "source": [
    "# jumlah null\n",
    "df.isnull().sum()"
   ]
  },
  {
   "cell_type": "code",
   "execution_count": 190,
   "id": "e394565a",
   "metadata": {
    "scrolled": false
   },
   "outputs": [
    {
     "name": "stdout",
     "output_type": "stream",
     "text": [
      "gender: [1 2]\n",
      "age: [15 27 32 33 34 38 45 46 49 26 28 41 42 47 56 16 17 18 19 20 21 22 23 25\n",
      " 29 30 35 40 43 51 54 24 36 48 52 53]\n",
      "time: [11.   11.75 12.    1.75  5.   11.25 11.5   4.5  10.5   8.5   8.75 10.75\n",
      "  4.    3.    7.75  8.    1.25  2.25  5.75  1.    9.75  6.75   nan  5.5\n",
      "  6.5  10.    2.    6.    8.25  7.5   4.75  4.25  6.25  9.25  2.5   5.25\n",
      "  3.75 10.25  9.    7.25]\n",
      "type: [ 1.  2.  3. nan]\n",
      "induration_diameter: [25.  6. 50.  7.  5.  9. nan 70.  8.  3.  2. 30. 45.]\n",
      "treatment_result: [0 1]\n"
     ]
    }
   ],
   "source": [
    "# untuk mengetahui unique value dari semua kolom\n",
    "print(\"gender:\", df[\"gender\"].unique())\n",
    "print(\"age:\", df[\"age\"].unique())\n",
    "print(\"time:\", df[\"time\"].unique())\n",
    "print(\"type:\", df[\"type\"].unique())\n",
    "print(\"induration_diameter:\", df[\"induration_diameter\"].unique())\n",
    "print(\"treatment_result:\", df[\"treatment_result\"].unique())"
   ]
  },
  {
   "cell_type": "code",
   "execution_count": 191,
   "id": "4ff18b63",
   "metadata": {
    "scrolled": true
   },
   "outputs": [
    {
     "name": "stdout",
     "output_type": "stream",
     "text": [
      "    gender  age   time  number_of_warts  type  area  induration_diameter  treatment_result\n",
      "0        1   15  11.00              6.0   1.0    30                 25.0                 0\n",
      "1        1   27  11.75              NaN   1.0   208                  6.0                 0\n",
      "2        1   32  12.00              9.0   1.0    43                 50.0                 0\n",
      "3        1   33   1.75              7.0   2.0   379                  7.0                 0\n",
      "4        1   34   5.00              7.0   3.0    64                  7.0                 0\n",
      "5        1   38  12.00             14.0   1.0    87                  6.0                 0\n",
      "6        1   45  11.25              4.0   1.0    72                  5.0                 0\n",
      "7        1   46  11.50              4.0   1.0    91                 25.0                 0\n",
      "8        1   49   4.50              2.0   1.0    33                  7.0                 0\n",
      "9        2   15   1.75              1.0   2.0    49                  7.0                 0\n",
      "10       2   26  10.50              6.0   NaN    50                  9.0                 0\n",
      "11       2   28  11.00              3.0   3.0    91                  6.0                 0\n",
      "12       2   32  12.00              6.0   3.0    35                  5.0                 0\n",
      "13       2   34  11.50             12.0   1.0    25                 50.0                 0\n",
      "14       2   34   8.50              1.0   2.0   163                  7.0                 0\n",
      "15       2   41  11.00             11.0   2.0    21                  6.0                 0\n",
      "16       2   42   8.75              8.0   2.0    73                  9.0                 0\n",
      "17       2   47  10.75              8.0   1.0    57                  5.0                 0\n",
      "18       2   56  11.75              7.0   1.0    31                 50.0                 0\n",
      "19       1   15   4.00              4.0   3.0    25                  NaN                 1\n",
      "20       1   15   5.00              3.0   3.0    84                  7.0                 1\n",
      "21       1   15   3.00              2.0   3.0   900                 70.0                 1\n",
      "22       1   16  10.50              2.0   1.0   100                 25.0                 1\n",
      "23       1   17   8.50              2.0   1.0    44                  8.0                 1\n",
      "24       1   18  11.75              5.0   2.0    13                  5.0                 1\n",
      "25       1   19   7.75              6.0   1.0    32                  7.0                 1\n",
      "26       1   20   8.00              6.0   NaN    45                  8.0                 1\n",
      "27       1   21   8.00              3.0   1.0    17                  8.0                 1\n",
      "28       1   22   1.25              3.0   3.0    47                  3.0                 1\n",
      "29       1   22   2.25             14.0   3.0    51                 50.0                 1\n",
      "30       1   23   5.75              2.0   1.0    43                  7.0                 1\n",
      "31       1   23   3.00              2.0   3.0    87                 70.0                 1\n",
      "32       1   25   5.75              2.0   1.0   300                  7.0                 1\n",
      "33       1   26   7.75             13.0   2.0    13                  5.0                 1\n",
      "34       1   27   5.00              2.0   1.0    20                  5.0                 1\n",
      "35       1   27  11.25              3.0   2.0    37                  2.0                 1\n",
      "36       1   27   4.50              9.0   3.0    80                 30.0                 1\n",
      "37       1   29   5.00             12.0   3.0    75                  7.0                 1\n",
      "38       1   29   8.75              3.0   1.0   504                  2.0                 1\n",
      "39       1   30   1.00              2.0   1.0    88                  3.0                 1\n",
      "40       1   35   9.75              2.0   2.0     8                  6.0                 1\n",
      "41       1   35   6.75              4.0   3.0    41                  8.0                 1\n",
      "42       1   35   8.75             10.0   2.0    69                  7.0                 1\n",
      "43       1   38    NaN              8.0   2.0    56                 45.0                 1\n",
      "44       1   40   5.50              8.0   3.0    69                  5.0                 1\n",
      "45       1   43   8.00              1.0   1.0    59                  3.0                 1\n",
      "46       1   43  11.00              7.0   1.0   507                  7.0                 1\n",
      "47       1   45   6.50              9.0   2.0    49                  6.0                 1\n",
      "48       1   45  10.00              8.0   1.0    58                  7.0                 1\n",
      "49       1   51   8.75              2.0   2.0    57                  3.0                 1\n",
      "50       1   54    NaN             13.0   3.0    43                  5.0                 1\n",
      "51       2   15   5.50             12.0   1.0    48                  7.0                 1\n",
      "52       2   15   8.00              1.0   1.0    55                  7.0                 1\n",
      "53       2   15   6.50             19.0   1.0    56                  NaN                 1\n",
      "54       2   15   4.00             12.0   1.0    72                 30.0                 1\n",
      "55       2   16   2.00             11.0   1.0    47                  7.0                 1\n",
      "56       2   16  10.00              7.0   1.0   143                  6.0                 1\n",
      "57       2   17   5.75             12.0   3.0    25                  7.0                 1\n",
      "58       2   17  11.25              4.0   3.0    70                  7.0                 1\n",
      "59       2   19   2.25              8.0   2.0    42                 70.0                 1\n",
      "60       2   19  11.00              5.0   2.0    51                  6.0                 1\n",
      "61       2   19   2.25              2.0   1.0    60                  7.0                 1\n",
      "62       2   19   6.00              2.0   1.0   225                  8.0                 1\n",
      "63       2   20   7.75             18.0   3.0    45                  2.0                 1\n",
      "64       2   22   8.50              5.0   1.0    99                  8.0                 1\n",
      "65       2   22   8.25              9.0   1.0   352                  3.0                 1\n",
      "66       2   23   6.75              6.0   NaN    19                  2.0                 1\n",
      "67       2   23   7.50             10.0   2.0    43                  3.0                 1\n",
      "68       2   24   4.75             10.0   3.0    30                 45.0                 1\n",
      "69       2   24   4.25              1.0   1.0   174                 30.0                 1\n",
      "70       2   26   6.75              2.0   1.0     6                  6.0                 1\n",
      "71       2   26   7.75              6.0   2.0     6                  5.0                 1\n",
      "72       2   28    NaN              4.0   1.0     9                  2.0                 1\n",
      "73       2   33   6.25              2.0   1.0    30                  3.0                 1\n",
      "74       2   33   8.00              5.0   1.0    63                 25.0                 1\n",
      "75       2   33   9.25              2.0   2.0   150                  8.0                 1\n",
      "76       2   33   8.00              3.0   1.0   502                  8.0                 1\n",
      "77       2   36   1.75             10.0   3.0    45                  3.0                 1\n",
      "78       2   38   2.50              1.0   3.0    43                 50.0                 1\n",
      "79       2   46   7.75              8.0   1.0    40                  3.0                 1\n",
      "80       2   47   5.25              3.0   3.0    23                 45.0                 1\n",
      "81       2   47   3.75             14.0   2.0    67                 50.0                 1\n",
      "82       2   47   9.25             13.0   2.0   367                  8.0                 1\n",
      "83       2   48  10.25              7.0   1.0    50                 25.0                 1\n",
      "84       2   49   9.00              4.0   2.0    14                  9.0                 1\n",
      "85       2   51   4.00              1.0   1.0    65                  7.0                 1\n",
      "86       2   51   6.00              6.0   NaN    80                  2.0                 1\n",
      "87       2   52   2.25              5.0   1.0    63                  7.0                 1\n",
      "88       2   53  10.00              1.0   2.0    30                 25.0                 1\n",
      "89       2   53   7.25              6.0   NaN    81                  7.0                 1\n"
     ]
    }
   ],
   "source": [
    "# untuk menampilkan semua data yang ada karena jumlahnya tidak terlalu banyak\n",
    "print(df.to_string())"
   ]
  },
  {
   "cell_type": "code",
   "execution_count": 192,
   "id": "b27d07b2",
   "metadata": {
    "scrolled": true
   },
   "outputs": [
    {
     "data": {
      "text/plain": [
       "gender                 0\n",
       "age                    0\n",
       "time                   0\n",
       "number_of_warts        0\n",
       "type                   0\n",
       "area                   0\n",
       "induration_diameter    0\n",
       "treatment_result       0\n",
       "dtype: int64"
      ]
     },
     "execution_count": 192,
     "metadata": {},
     "output_type": "execute_result"
    }
   ],
   "source": [
    "# null handling dengan median untuk nilai continuous karena sebaran tidak normal dan modus untuk kategorikal data\n",
    "df['type'].fillna(df['type'].mode()[0], inplace=True)\n",
    "df['time'].fillna(df['time'].median(), inplace=True)\n",
    "df['number_of_warts'].fillna(df['number_of_warts'].median(), inplace=True)\n",
    "df['induration_diameter'].fillna(df['induration_diameter'].median(), inplace=True)\n",
    "\n",
    "df.isnull().sum()"
   ]
  },
  {
   "cell_type": "code",
   "execution_count": 193,
   "id": "4bfeb38a",
   "metadata": {},
   "outputs": [
    {
     "name": "stdout",
     "output_type": "stream",
     "text": [
      "<class 'pandas.core.frame.DataFrame'>\n",
      "RangeIndex: 90 entries, 0 to 89\n",
      "Data columns (total 8 columns):\n",
      " #   Column               Non-Null Count  Dtype  \n",
      "---  ------               --------------  -----  \n",
      " 0   gender               90 non-null     int64  \n",
      " 1   age                  90 non-null     int64  \n",
      " 2   time                 90 non-null     float64\n",
      " 3   number_of_warts      90 non-null     float64\n",
      " 4   type                 90 non-null     float64\n",
      " 5   area                 90 non-null     int64  \n",
      " 6   induration_diameter  90 non-null     float64\n",
      " 7   treatment_result     90 non-null     int64  \n",
      "dtypes: float64(4), int64(4)\n",
      "memory usage: 5.8 KB\n"
     ]
    }
   ],
   "source": [
    "# info dataset\n",
    "df.info()"
   ]
  },
  {
   "cell_type": "code",
   "execution_count": 194,
   "id": "58fe3046",
   "metadata": {},
   "outputs": [
    {
     "data": {
      "text/html": [
       "<div>\n",
       "<style scoped>\n",
       "    .dataframe tbody tr th:only-of-type {\n",
       "        vertical-align: middle;\n",
       "    }\n",
       "\n",
       "    .dataframe tbody tr th {\n",
       "        vertical-align: top;\n",
       "    }\n",
       "\n",
       "    .dataframe thead th {\n",
       "        text-align: right;\n",
       "    }\n",
       "</style>\n",
       "<table border=\"1\" class=\"dataframe\">\n",
       "  <thead>\n",
       "    <tr style=\"text-align: right;\">\n",
       "      <th></th>\n",
       "      <th>gender</th>\n",
       "      <th>age</th>\n",
       "      <th>time</th>\n",
       "      <th>number_of_warts</th>\n",
       "      <th>type</th>\n",
       "      <th>area</th>\n",
       "      <th>induration_diameter</th>\n",
       "      <th>treatment_result</th>\n",
       "    </tr>\n",
       "  </thead>\n",
       "  <tbody>\n",
       "    <tr>\n",
       "      <th>count</th>\n",
       "      <td>90.000000</td>\n",
       "      <td>90.000000</td>\n",
       "      <td>90.000000</td>\n",
       "      <td>90.000000</td>\n",
       "      <td>90.000000</td>\n",
       "      <td>90.000000</td>\n",
       "      <td>90.000000</td>\n",
       "      <td>90.000000</td>\n",
       "    </tr>\n",
       "    <tr>\n",
       "      <th>mean</th>\n",
       "      <td>1.544444</td>\n",
       "      <td>31.044444</td>\n",
       "      <td>7.238889</td>\n",
       "      <td>6.122222</td>\n",
       "      <td>1.711111</td>\n",
       "      <td>95.700000</td>\n",
       "      <td>14.333333</td>\n",
       "      <td>0.788889</td>\n",
       "    </tr>\n",
       "    <tr>\n",
       "      <th>std</th>\n",
       "      <td>0.500811</td>\n",
       "      <td>12.235435</td>\n",
       "      <td>3.099228</td>\n",
       "      <td>4.207612</td>\n",
       "      <td>0.824409</td>\n",
       "      <td>136.614643</td>\n",
       "      <td>17.217707</td>\n",
       "      <td>0.410383</td>\n",
       "    </tr>\n",
       "    <tr>\n",
       "      <th>min</th>\n",
       "      <td>1.000000</td>\n",
       "      <td>15.000000</td>\n",
       "      <td>1.000000</td>\n",
       "      <td>1.000000</td>\n",
       "      <td>1.000000</td>\n",
       "      <td>6.000000</td>\n",
       "      <td>2.000000</td>\n",
       "      <td>0.000000</td>\n",
       "    </tr>\n",
       "    <tr>\n",
       "      <th>25%</th>\n",
       "      <td>1.000000</td>\n",
       "      <td>20.250000</td>\n",
       "      <td>5.000000</td>\n",
       "      <td>2.000000</td>\n",
       "      <td>1.000000</td>\n",
       "      <td>35.500000</td>\n",
       "      <td>5.000000</td>\n",
       "      <td>1.000000</td>\n",
       "    </tr>\n",
       "    <tr>\n",
       "      <th>50%</th>\n",
       "      <td>2.000000</td>\n",
       "      <td>28.500000</td>\n",
       "      <td>7.750000</td>\n",
       "      <td>6.000000</td>\n",
       "      <td>1.000000</td>\n",
       "      <td>53.000000</td>\n",
       "      <td>7.000000</td>\n",
       "      <td>1.000000</td>\n",
       "    </tr>\n",
       "    <tr>\n",
       "      <th>75%</th>\n",
       "      <td>2.000000</td>\n",
       "      <td>41.750000</td>\n",
       "      <td>9.937500</td>\n",
       "      <td>8.750000</td>\n",
       "      <td>2.000000</td>\n",
       "      <td>80.750000</td>\n",
       "      <td>9.000000</td>\n",
       "      <td>1.000000</td>\n",
       "    </tr>\n",
       "    <tr>\n",
       "      <th>max</th>\n",
       "      <td>2.000000</td>\n",
       "      <td>56.000000</td>\n",
       "      <td>12.000000</td>\n",
       "      <td>19.000000</td>\n",
       "      <td>3.000000</td>\n",
       "      <td>900.000000</td>\n",
       "      <td>70.000000</td>\n",
       "      <td>1.000000</td>\n",
       "    </tr>\n",
       "  </tbody>\n",
       "</table>\n",
       "</div>"
      ],
      "text/plain": [
       "          gender        age       time  number_of_warts       type  \\\n",
       "count  90.000000  90.000000  90.000000        90.000000  90.000000   \n",
       "mean    1.544444  31.044444   7.238889         6.122222   1.711111   \n",
       "std     0.500811  12.235435   3.099228         4.207612   0.824409   \n",
       "min     1.000000  15.000000   1.000000         1.000000   1.000000   \n",
       "25%     1.000000  20.250000   5.000000         2.000000   1.000000   \n",
       "50%     2.000000  28.500000   7.750000         6.000000   1.000000   \n",
       "75%     2.000000  41.750000   9.937500         8.750000   2.000000   \n",
       "max     2.000000  56.000000  12.000000        19.000000   3.000000   \n",
       "\n",
       "             area  induration_diameter  treatment_result  \n",
       "count   90.000000            90.000000         90.000000  \n",
       "mean    95.700000            14.333333          0.788889  \n",
       "std    136.614643            17.217707          0.410383  \n",
       "min      6.000000             2.000000          0.000000  \n",
       "25%     35.500000             5.000000          1.000000  \n",
       "50%     53.000000             7.000000          1.000000  \n",
       "75%     80.750000             9.000000          1.000000  \n",
       "max    900.000000            70.000000          1.000000  "
      ]
     },
     "execution_count": 194,
     "metadata": {},
     "output_type": "execute_result"
    }
   ],
   "source": [
    "# describe dataset \n",
    "df.describe()"
   ]
  },
  {
   "cell_type": "code",
   "execution_count": 195,
   "id": "0138e794",
   "metadata": {},
   "outputs": [],
   "source": [
    "# mengubah tipe data\n",
    "df = df.astype({'gender': 'float64', 'number_of_warts': 'int64', 'type': 'float64', 'treatment_result': 'float64'})"
   ]
  },
  {
   "cell_type": "code",
   "execution_count": 196,
   "id": "e1406383",
   "metadata": {},
   "outputs": [],
   "source": [
    "df2 = df.copy()"
   ]
  },
  {
   "cell_type": "markdown",
   "id": "07b6758a",
   "metadata": {},
   "source": [
    "# Exploratory Data Analysis"
   ]
  },
  {
   "cell_type": "code",
   "execution_count": 197,
   "id": "2c15038b",
   "metadata": {},
   "outputs": [
    {
     "data": {
      "image/png": "[encoded data removed]",
      "text/plain": [
       "<Figure size 1080x720 with 2 Axes>"
      ]
     },
     "metadata": {
      "needs_background": "light"
     },
     "output_type": "display_data"
    }
   ],
   "source": [
    "# Check the correlation between features and target \n",
    "plt.figure(figsize=(15,10))\n",
    "sns.heatmap(df.corr(), cmap='RdBu', vmin=-1, vmax=1, annot=True)\n",
    "plt.show()"
   ]
  },
  {
   "cell_type": "code",
   "execution_count": 198,
   "id": "d74e2dcd",
   "metadata": {
    "scrolled": true
   },
   "outputs": [
    {
     "data": {
      "image/png": "[encoded data removed]",
      "text/plain": [
       "<Figure size 432x288 with 1 Axes>"
      ]
     },
     "metadata": {
      "needs_background": "light"
     },
     "output_type": "display_data"
    },
    {
     "data": {
      "image/png": "[encoded data removed]",
      "text/plain": [
       "<Figure size 432x288 with 1 Axes>"
      ]
     },
     "metadata": {
      "needs_background": "light"
     },
     "output_type": "display_data"
    },
    {
     "data": {
      "image/png": "[encoded data removed]",
      "text/plain": [
       "<Figure size 432x288 with 1 Axes>"
      ]
     },
     "metadata": {
      "needs_background": "light"
     },
     "output_type": "display_data"
    },
    {
     "data": {
      "image/png": "[encoded data removed]",
      "text/plain": [
       "<Figure size 432x288 with 1 Axes>"
      ]
     },
     "metadata": {
      "needs_background": "light"
     },
     "output_type": "display_data"
    },
    {
     "data": {
      "image/png": "[encoded data removed]",
      "text/plain": [
       "<Figure size 432x288 with 1 Axes>"
      ]
     },
     "metadata": {
      "needs_background": "light"
     },
     "output_type": "display_data"
    }
   ],
   "source": [
    "# boxplot untuk mengetahui sebaran/distribusi data serta outliers\n",
    "sns.boxplot(data=df[\"age\"], orient=\"h\", width=(0.2))\n",
    "plt.title(\"age\")\n",
    "plt.show()\n",
    "\n",
    "sns.boxplot(data=df[\"time\"], orient=\"h\", width=(0.2))\n",
    "plt.title(\"time\")\n",
    "plt.show()\n",
    "\n",
    "sns.boxplot(data=df[\"number_of_warts\"], orient=\"h\", width=(0.2))\n",
    "plt.title(\"number_of_warts\")\n",
    "plt.show()\n",
    "\n",
    "sns.boxplot(data=df[\"area\"], orient=\"h\", width=(0.2))\n",
    "plt.title(\"area\")\n",
    "plt.show()\n",
    "\n",
    "sns.boxplot(data=df[\"induration_diameter\"], orient=\"h\", width=(0.2))\n",
    "plt.title(\"induration_diameter\")\n",
    "plt.show()"
   ]
  },
  {
   "cell_type": "code",
   "execution_count": 199,
   "id": "02cdcdb2",
   "metadata": {},
   "outputs": [
    {
     "data": {
      "image/png": "[encoded data removed]",
      "text/plain": [
       "<Figure size 432x288 with 1 Axes>"
      ]
     },
     "metadata": {},
     "output_type": "display_data"
    }
   ],
   "source": [
    "data = df.groupby(\"gender\")[\"gender\"].count()\n",
    "data.plot(kind='pie', autopct='%1.2f%%', labels = [\"male\", \"female\"])\n",
    "plt.show()"
   ]
  },
  {
   "cell_type": "code",
   "execution_count": 200,
   "id": "04025338",
   "metadata": {},
   "outputs": [
    {
     "data": {
      "image/png": "[encoded data removed]",
      "text/plain": [
       "<Figure size 432x288 with 1 Axes>"
      ]
     },
     "metadata": {},
     "output_type": "display_data"
    }
   ],
   "source": [
    "data = df.groupby(\"type\")[\"type\"].count()\n",
    "data.plot(kind='pie', autopct='%1.2f%%')\n",
    "plt.show()"
   ]
  },
  {
   "cell_type": "code",
   "execution_count": 201,
   "id": "eac770a7",
   "metadata": {},
   "outputs": [
    {
     "data": {
      "text/plain": [
       "<AxesSubplot:xlabel='treatment_result', ylabel='count'>"
      ]
     },
     "execution_count": 201,
     "metadata": {},
     "output_type": "execute_result"
    },
    {
     "data": {
      "image/png": "[encoded data removed]",
      "text/plain": [
       "<Figure size 432x288 with 1 Axes>"
      ]
     },
     "metadata": {
      "needs_background": "light"
     },
     "output_type": "display_data"
    }
   ],
   "source": [
    "# visualisasi kolom treatment result\n",
    "sns.countplot(x=\"treatment_result\", data=df)"
   ]
  },
  {
   "cell_type": "markdown",
   "id": "8acefe05",
   "metadata": {},
   "source": [
    "### Solving Imbalance"
   ]
  },
  {
   "cell_type": "code",
   "execution_count": 202,
   "id": "361d50c5",
   "metadata": {},
   "outputs": [],
   "source": [
    "# Memisahkan prediktor dan target variabel\n",
    "# Predictor Variabels\n",
    "X = df.iloc[:, :-1].values\n",
    "# Target Variabel\n",
    "y = df.iloc[:, -1].values"
   ]
  },
  {
   "cell_type": "code",
   "execution_count": 203,
   "id": "7f6975b2",
   "metadata": {},
   "outputs": [],
   "source": [
    "# Menggunakan SMOTE sebagai metode oversampling\n",
    "over_sample = SMOTE()\n",
    "X, y = over_sample.fit_resample(X, y)"
   ]
  },
  {
   "cell_type": "code",
   "execution_count": 204,
   "id": "75475e74",
   "metadata": {},
   "outputs": [
    {
     "name": "stdout",
     "output_type": "stream",
     "text": [
      "Class=0, n=71 (50.000%)\n",
      "Class=1, n=71 (50.000%)\n"
     ]
    },
    {
     "data": {
      "image/png": "[encoded data removed]",
      "text/plain": [
       "<Figure size 432x288 with 1 Axes>"
      ]
     },
     "metadata": {
      "needs_background": "light"
     },
     "output_type": "display_data"
    }
   ],
   "source": [
    "# Visualisasi kolom treatment result setelah penerapan SMOTE\n",
    "from collections import Counter\n",
    "\n",
    "# summarize distribution\n",
    "counter = Counter(y)\n",
    "for k,v in counter.items():\n",
    "\tper = v / len(y) * 100\n",
    "\tprint('Class=%d, n=%d (%.3f%%)' % (k, v, per))\n",
    "\n",
    "# plot the distribution\n",
    "plt.bar(counter.keys(), counter.values())\n",
    "plt.title('Oversampling with SMOTE', pad=20)\n",
    "plt.xlabel('Treatment Result')\n",
    "plt.ylabel('Number of Sample after SMOTE')\n",
    "plt.show()"
   ]
  },
  {
   "cell_type": "markdown",
   "id": "0aa2516b",
   "metadata": {},
   "source": [
    "# Data Modelling menggunakan Classification"
   ]
  },
  {
   "cell_type": "markdown",
   "id": "e81ec6e6",
   "metadata": {},
   "source": [
    "### Data Transformasi"
   ]
  },
  {
   "cell_type": "code",
   "execution_count": 205,
   "id": "cc02b368",
   "metadata": {},
   "outputs": [],
   "source": [
    "# Pemisahan data menjadi data testing dan data training\n",
    "from sklearn.model_selection import train_test_split\n",
    "\n",
    "X_train, X_test, y_train, y_test = train_test_split(X, y, test_size = 0.10, random_state = 0)"
   ]
  },
  {
   "cell_type": "code",
   "execution_count": 206,
   "id": "922bc856",
   "metadata": {},
   "outputs": [],
   "source": [
    "# Transformasi data\n",
    "from sklearn.preprocessing import StandardScaler\n",
    "\n",
    "sc = StandardScaler()\n",
    "X_train = sc.fit_transform(X_train)\n",
    "X_test = sc.transform(X_test)"
   ]
  },
  {
   "cell_type": "code",
   "execution_count": 207,
   "id": "d7d21445",
   "metadata": {},
   "outputs": [
    {
     "data": {
      "text/html": [
       "<style>#sk-container-id-9 {color: black;background-color: white;}#sk-container-id-9 pre{padding: 0;}#sk-container-id-9 div.sk-toggleable {background-color: white;}#sk-container-id-9 label.sk-toggleable__label {cursor: pointer;display: block;width: 100%;margin-bottom: 0;padding: 0.3em;box-sizing: border-box;text-align: center;}#sk-container-id-9 label.sk-toggleable__label-arrow:before {content: \"▸\";float: left;margin-right: 0.25em;color: #696969;}#sk-container-id-9 label.sk-toggleable__label-arrow:hover:before {color: black;}#sk-container-id-9 div.sk-estimator:hover label.sk-toggleable__label-arrow:before {color: black;}#sk-container-id-9 div.sk-toggleable__content {max-height: 0;max-width: 0;overflow: hidden;text-align: left;background-color: #f0f8ff;}#sk-container-id-9 div.sk-toggleable__content pre {margin: 0.2em;color: black;border-radius: 0.25em;background-color: #f0f8ff;}#sk-container-id-9 input.sk-toggleable__control:checked~div.sk-toggleable__content {max-height: 200px;max-width: 100%;overflow: auto;}#sk-container-id-9 input.sk-toggleable__control:checked~label.sk-toggleable__label-arrow:before {content: \"▾\";}#sk-container-id-9 div.sk-estimator input.sk-toggleable__control:checked~label.sk-toggleable__label {background-color: #d4ebff;}#sk-container-id-9 div.sk-label input.sk-toggleable__control:checked~label.sk-toggleable__label {background-color: #d4ebff;}#sk-container-id-9 input.sk-hidden--visually {border: 0;clip: rect(1px 1px 1px 1px);clip: rect(1px, 1px, 1px, 1px);height: 1px;margin: -1px;overflow: hidden;padding: 0;position: absolute;width: 1px;}#sk-container-id-9 div.sk-estimator {font-family: monospace;background-color: #f0f8ff;border: 1px dotted black;border-radius: 0.25em;box-sizing: border-box;margin-bottom: 0.5em;}#sk-container-id-9 div.sk-estimator:hover {background-color: #d4ebff;}#sk-container-id-9 div.sk-parallel-item::after {content: \"\";width: 100%;border-bottom: 1px solid gray;flex-grow: 1;}#sk-container-id-9 div.sk-label:hover label.sk-toggleable__label {background-color: #d4ebff;}#sk-container-id-9 div.sk-serial::before {content: \"\";position: absolute;border-left: 1px solid gray;box-sizing: border-box;top: 0;bottom: 0;left: 50%;z-index: 0;}#sk-container-id-9 div.sk-serial {display: flex;flex-direction: column;align-items: center;background-color: white;padding-right: 0.2em;padding-left: 0.2em;position: relative;}#sk-container-id-9 div.sk-item {position: relative;z-index: 1;}#sk-container-id-9 div.sk-parallel {display: flex;align-items: stretch;justify-content: center;background-color: white;position: relative;}#sk-container-id-9 div.sk-item::before, #sk-container-id-9 div.sk-parallel-item::before {content: \"\";position: absolute;border-left: 1px solid gray;box-sizing: border-box;top: 0;bottom: 0;left: 50%;z-index: -1;}#sk-container-id-9 div.sk-parallel-item {display: flex;flex-direction: column;z-index: 1;position: relative;background-color: white;}#sk-container-id-9 div.sk-parallel-item:first-child::after {align-self: flex-end;width: 50%;}#sk-container-id-9 div.sk-parallel-item:last-child::after {align-self: flex-start;width: 50%;}#sk-container-id-9 div.sk-parallel-item:only-child::after {width: 0;}#sk-container-id-9 div.sk-dashed-wrapped {border: 1px dashed gray;margin: 0 0.4em 0.5em 0.4em;box-sizing: border-box;padding-bottom: 0.4em;background-color: white;}#sk-container-id-9 div.sk-label label {font-family: monospace;font-weight: bold;display: inline-block;line-height: 1.2em;}#sk-container-id-9 div.sk-label-container {text-align: center;}#sk-container-id-9 div.sk-container {/* jupyter's `normalize.less` sets `[hidden] { display: none; }` but bootstrap.min.css set `[hidden] { display: none !important; }` so we also need the `!important` here to be able to override the default hidden behavior on the sphinx rendered scikit-learn.org. See: https://github.com/scikit-learn/scikit-learn/issues/21755 */display: inline-block !important;position: relative;}#sk-container-id-9 div.sk-text-repr-fallback {display: none;}</style><div id=\"sk-container-id-9\" class=\"sk-top-container\"><div class=\"sk-text-repr-fallback\"><pre>RandomForestClassifier(n_estimators=200, random_state=0)</pre><b>In a Jupyter environment, please rerun this cell to show the HTML representation or trust the notebook. <br />On GitHub, the HTML representation is unable to render, please try loading this page with nbviewer.org.</b></div><div class=\"sk-container\" hidden><div class=\"sk-item\"><div class=\"sk-estimator sk-toggleable\"><input class=\"sk-toggleable__control sk-hidden--visually\" id=\"sk-estimator-id-9\" type=\"checkbox\" checked><label for=\"sk-estimator-id-9\" class=\"sk-toggleable__label sk-toggleable__label-arrow\">RandomForestClassifier</label><div class=\"sk-toggleable__content\"><pre>RandomForestClassifier(n_estimators=200, random_state=0)</pre></div></div></div></div></div>"
      ],
      "text/plain": [
       "RandomForestClassifier(n_estimators=200, random_state=0)"
      ]
     },
     "execution_count": 207,
     "metadata": {},
     "output_type": "execute_result"
    }
   ],
   "source": [
    "from sklearn.neighbors import KNeighborsClassifier\n",
    "\n",
    "knn_classifier = KNeighborsClassifier(n_neighbors = 9, metric = \"euclidean\", p = 2)\n",
    "knn_classifier.fit(X_train, y_train)\n",
    "\n",
    "from sklearn.linear_model import LogisticRegression\n",
    "\n",
    "log_classifier = LogisticRegression()\n",
    "log_classifier.fit(X_train, y_train)\n",
    "\n",
    "\n",
    "from sklearn.tree import DecisionTreeClassifier\n",
    "\n",
    "dt_classifier = DecisionTreeClassifier(criterion = 'entropy', random_state = 0)\n",
    "dt_classifier.fit(X_train, y_train)\n",
    "\n",
    "from sklearn.ensemble import RandomForestClassifier\n",
    "\n",
    "rf_classifier = RandomForestClassifier(n_estimators = 200, criterion = 'gini', random_state = 0)\n",
    "#rf_classifier = RandomForestClassifier(max_depth=90, max_features=3, min_samples_leaf=3,\n",
    "#                       min_samples_split=8, n_estimators=200)\n",
    "rf_classifier.fit(X_train, y_train)"
   ]
  },
  {
   "cell_type": "code",
   "execution_count": 208,
   "id": "04909802",
   "metadata": {},
   "outputs": [
    {
     "data": {
      "text/html": [
       "<div>\n",
       "<style scoped>\n",
       "    .dataframe tbody tr th:only-of-type {\n",
       "        vertical-align: middle;\n",
       "    }\n",
       "\n",
       "    .dataframe tbody tr th {\n",
       "        vertical-align: top;\n",
       "    }\n",
       "\n",
       "    .dataframe thead th {\n",
       "        text-align: right;\n",
       "    }\n",
       "</style>\n",
       "<table border=\"1\" class=\"dataframe\">\n",
       "  <thead>\n",
       "    <tr style=\"text-align: right;\">\n",
       "      <th></th>\n",
       "      <th>y_test</th>\n",
       "      <th>knn_y_pred</th>\n",
       "      <th>log_y_pred</th>\n",
       "      <th>dt_y_pred</th>\n",
       "      <th>rf_y_pred</th>\n",
       "    </tr>\n",
       "  </thead>\n",
       "  <tbody>\n",
       "    <tr>\n",
       "      <th>0</th>\n",
       "      <td>1.0</td>\n",
       "      <td>0.0</td>\n",
       "      <td>0.0</td>\n",
       "      <td>1.0</td>\n",
       "      <td>1.0</td>\n",
       "    </tr>\n",
       "    <tr>\n",
       "      <th>1</th>\n",
       "      <td>1.0</td>\n",
       "      <td>1.0</td>\n",
       "      <td>1.0</td>\n",
       "      <td>1.0</td>\n",
       "      <td>1.0</td>\n",
       "    </tr>\n",
       "    <tr>\n",
       "      <th>2</th>\n",
       "      <td>0.0</td>\n",
       "      <td>0.0</td>\n",
       "      <td>0.0</td>\n",
       "      <td>0.0</td>\n",
       "      <td>0.0</td>\n",
       "    </tr>\n",
       "    <tr>\n",
       "      <th>3</th>\n",
       "      <td>1.0</td>\n",
       "      <td>1.0</td>\n",
       "      <td>1.0</td>\n",
       "      <td>0.0</td>\n",
       "      <td>1.0</td>\n",
       "    </tr>\n",
       "    <tr>\n",
       "      <th>4</th>\n",
       "      <td>1.0</td>\n",
       "      <td>1.0</td>\n",
       "      <td>0.0</td>\n",
       "      <td>0.0</td>\n",
       "      <td>1.0</td>\n",
       "    </tr>\n",
       "  </tbody>\n",
       "</table>\n",
       "</div>"
      ],
      "text/plain": [
       "   y_test  knn_y_pred  log_y_pred  dt_y_pred  rf_y_pred\n",
       "0     1.0         0.0         0.0        1.0        1.0\n",
       "1     1.0         1.0         1.0        1.0        1.0\n",
       "2     0.0         0.0         0.0        0.0        0.0\n",
       "3     1.0         1.0         1.0        0.0        1.0\n",
       "4     1.0         1.0         0.0        0.0        1.0"
      ]
     },
     "execution_count": 208,
     "metadata": {},
     "output_type": "execute_result"
    }
   ],
   "source": [
    "# Sample dari perbandingan data testing dan data predict dari masing-masing model\n",
    "knn_y_pred = knn_classifier.predict(X_test)\n",
    "log_y_pred = log_classifier.predict(X_test)\n",
    "dt_y_pred = dt_classifier.predict(X_test)\n",
    "rf_y_pred = rf_classifier.predict(X_test)\n",
    "evaluate = pd.DataFrame({\"y_test\":y_test, \"knn_y_pred\":knn_y_pred, \n",
    "                         \"log_y_pred\":log_y_pred, \n",
    "                         \"dt_y_pred\":dt_y_pred, \"rf_y_pred\":rf_y_pred})\n",
    "evaluate.head()"
   ]
  },
  {
   "cell_type": "code",
   "execution_count": 209,
   "id": "62b81022",
   "metadata": {
    "scrolled": true
   },
   "outputs": [
    {
     "name": "stdout",
     "output_type": "stream",
     "text": [
      "Confusion Matrix:\n",
      " [[10  0]\n",
      " [ 1  4]]\n",
      "KNN Accuracy Score:  0.9333333333333333\n",
      "KNN F1 Score:  0.9333333333333333\n",
      "\n",
      "Confusion Matrix:\n",
      " [[9 1]\n",
      " [2 3]]\n",
      "LOG Accuracy Score:  0.8\n",
      "LOG F1 Score:  0.8000000000000002\n",
      "\n",
      "Confusion Matrix:\n",
      " [[8 2]\n",
      " [2 3]]\n",
      "DT Accuracy Score:  0.7333333333333333\n",
      "DT F1 Score:  0.7333333333333333\n",
      "\n",
      "Confusion Matrix:\n",
      " [[9 1]\n",
      " [0 5]]\n",
      "RF Accuracy Score:  0.9333333333333333\n",
      "RF F1 Score:  0.9333333333333333\n",
      "\n"
     ]
    }
   ],
   "source": [
    "# Untuk menampilkan akurasi dan F1 SCore dari masing-masing model\n",
    "from sklearn.metrics import confusion_matrix, accuracy_score, f1_score\n",
    "\n",
    "knn_cm = confusion_matrix(y_test, knn_y_pred)\n",
    "print(\"Confusion Matrix:\\n\", knn_cm)\n",
    "print(\"KNN Accuracy Score: \", accuracy_score(y_test, knn_y_pred))\n",
    "print('KNN F1 Score: ', f1_score(y_test, knn_y_pred, average='micro'))\n",
    "print()\n",
    "log_cm = confusion_matrix(y_test, log_y_pred)\n",
    "print(\"Confusion Matrix:\\n\", log_cm)\n",
    "print(\"LOG Accuracy Score: \", accuracy_score(y_test, log_y_pred))\n",
    "print('LOG F1 Score: ', f1_score(y_test, log_y_pred, average='micro'))\n",
    "print()\n",
    "dt_cm = confusion_matrix(y_test, dt_y_pred)\n",
    "print(\"Confusion Matrix:\\n\", dt_cm)\n",
    "print(\"DT Accuracy Score: \", accuracy_score(y_test, dt_y_pred))\n",
    "print('DT F1 Score: ', f1_score(y_test, dt_y_pred, average='micro'))\n",
    "print()\n",
    "rf_cm = confusion_matrix(y_test, rf_y_pred)\n",
    "print(\"Confusion Matrix:\\n\", rf_cm)\n",
    "print(\"RF Accuracy Score: \", accuracy_score(y_test, rf_y_pred))\n",
    "print('RF F1 Score: ', f1_score(y_test, rf_y_pred, average='micro'))\n",
    "print()"
   ]
  },
  {
   "cell_type": "code",
   "execution_count": 210,
   "id": "f623150b",
   "metadata": {},
   "outputs": [
    {
     "name": "stderr",
     "output_type": "stream",
     "text": [
      "C:\\Users\\User\\anaconda3\\lib\\site-packages\\sklearn\\utils\\deprecation.py:87: FutureWarning: Function plot_confusion_matrix is deprecated; Function `plot_confusion_matrix` is deprecated in 1.0 and will be removed in 1.2. Use one of the class methods: ConfusionMatrixDisplay.from_predictions or ConfusionMatrixDisplay.from_estimator.\n",
      "  warnings.warn(msg, category=FutureWarning)\n"
     ]
    },
    {
     "data": {
      "image/png": "[encoded data removed]",
      "text/plain": [
       "<Figure size 432x288 with 2 Axes>"
      ]
     },
     "metadata": {
      "needs_background": "light"
     },
     "output_type": "display_data"
    }
   ],
   "source": [
    "# Visualisasi Heatmap untuk Random Forest\n",
    "from sklearn.metrics import accuracy_score, plot_confusion_matrix\n",
    "\n",
    "plot_confusion_matrix(rf_classifier, X_test, y_test, cmap='YlGnBu')\n",
    "plt.title('Heatmap Confusion Matriks', pad=20)\n",
    "plt.show()"
   ]
  },
  {
   "cell_type": "markdown",
   "id": "a6fd560d",
   "metadata": {},
   "source": [
    "Kesimpulan dari model-model klasifikasi di atas, model klasifikasi dengan akurasi tertinggi adalah Random Forest dengan akurasi score 0.933"
   ]
  },
  {
   "cell_type": "markdown",
   "id": "e5adcf7c",
   "metadata": {},
   "source": [
    "# Data Modelling menggunakan Regression"
   ]
  },
  {
   "cell_type": "code",
   "execution_count": 211,
   "id": "a7f03b56",
   "metadata": {},
   "outputs": [],
   "source": [
    "# Memisahkan prediktor dan target variabel\n",
    "# Predictor Variabels\n",
    "X = df[['age', 'type', 'treatment_result']]\n",
    "\n",
    "# Target Variabel\n",
    "y = df['time']"
   ]
  },
  {
   "cell_type": "code",
   "execution_count": 212,
   "id": "41525da2",
   "metadata": {},
   "outputs": [],
   "source": [
    "# Pemisahan data menjadi data testing dan data training\n",
    "from sklearn.model_selection import train_test_split\n",
    "\n",
    "X_train, X_test, y_train, y_test = train_test_split(X, y, test_size = 0.10, random_state = 0)"
   ]
  },
  {
   "cell_type": "code",
   "execution_count": 213,
   "id": "7b7e40ac",
   "metadata": {},
   "outputs": [],
   "source": [
    "# Transformasi data\n",
    "from sklearn.preprocessing import StandardScaler\n",
    "\n",
    "sc = StandardScaler()\n",
    "X_train = sc.fit_transform(X_train)\n",
    "X_test = sc.transform(X_test)"
   ]
  },
  {
   "cell_type": "code",
   "execution_count": 214,
   "id": "53cde95b",
   "metadata": {},
   "outputs": [
    {
     "data": {
      "text/html": [
       "<style>#sk-container-id-10 {color: black;background-color: white;}#sk-container-id-10 pre{padding: 0;}#sk-container-id-10 div.sk-toggleable {background-color: white;}#sk-container-id-10 label.sk-toggleable__label {cursor: pointer;display: block;width: 100%;margin-bottom: 0;padding: 0.3em;box-sizing: border-box;text-align: center;}#sk-container-id-10 label.sk-toggleable__label-arrow:before {content: \"▸\";float: left;margin-right: 0.25em;color: #696969;}#sk-container-id-10 label.sk-toggleable__label-arrow:hover:before {color: black;}#sk-container-id-10 div.sk-estimator:hover label.sk-toggleable__label-arrow:before {color: black;}#sk-container-id-10 div.sk-toggleable__content {max-height: 0;max-width: 0;overflow: hidden;text-align: left;background-color: #f0f8ff;}#sk-container-id-10 div.sk-toggleable__content pre {margin: 0.2em;color: black;border-radius: 0.25em;background-color: #f0f8ff;}#sk-container-id-10 input.sk-toggleable__control:checked~div.sk-toggleable__content {max-height: 200px;max-width: 100%;overflow: auto;}#sk-container-id-10 input.sk-toggleable__control:checked~label.sk-toggleable__label-arrow:before {content: \"▾\";}#sk-container-id-10 div.sk-estimator input.sk-toggleable__control:checked~label.sk-toggleable__label {background-color: #d4ebff;}#sk-container-id-10 div.sk-label input.sk-toggleable__control:checked~label.sk-toggleable__label {background-color: #d4ebff;}#sk-container-id-10 input.sk-hidden--visually {border: 0;clip: rect(1px 1px 1px 1px);clip: rect(1px, 1px, 1px, 1px);height: 1px;margin: -1px;overflow: hidden;padding: 0;position: absolute;width: 1px;}#sk-container-id-10 div.sk-estimator {font-family: monospace;background-color: #f0f8ff;border: 1px dotted black;border-radius: 0.25em;box-sizing: border-box;margin-bottom: 0.5em;}#sk-container-id-10 div.sk-estimator:hover {background-color: #d4ebff;}#sk-container-id-10 div.sk-parallel-item::after {content: \"\";width: 100%;border-bottom: 1px solid gray;flex-grow: 1;}#sk-container-id-10 div.sk-label:hover label.sk-toggleable__label {background-color: #d4ebff;}#sk-container-id-10 div.sk-serial::before {content: \"\";position: absolute;border-left: 1px solid gray;box-sizing: border-box;top: 0;bottom: 0;left: 50%;z-index: 0;}#sk-container-id-10 div.sk-serial {display: flex;flex-direction: column;align-items: center;background-color: white;padding-right: 0.2em;padding-left: 0.2em;position: relative;}#sk-container-id-10 div.sk-item {position: relative;z-index: 1;}#sk-container-id-10 div.sk-parallel {display: flex;align-items: stretch;justify-content: center;background-color: white;position: relative;}#sk-container-id-10 div.sk-item::before, #sk-container-id-10 div.sk-parallel-item::before {content: \"\";position: absolute;border-left: 1px solid gray;box-sizing: border-box;top: 0;bottom: 0;left: 50%;z-index: -1;}#sk-container-id-10 div.sk-parallel-item {display: flex;flex-direction: column;z-index: 1;position: relative;background-color: white;}#sk-container-id-10 div.sk-parallel-item:first-child::after {align-self: flex-end;width: 50%;}#sk-container-id-10 div.sk-parallel-item:last-child::after {align-self: flex-start;width: 50%;}#sk-container-id-10 div.sk-parallel-item:only-child::after {width: 0;}#sk-container-id-10 div.sk-dashed-wrapped {border: 1px dashed gray;margin: 0 0.4em 0.5em 0.4em;box-sizing: border-box;padding-bottom: 0.4em;background-color: white;}#sk-container-id-10 div.sk-label label {font-family: monospace;font-weight: bold;display: inline-block;line-height: 1.2em;}#sk-container-id-10 div.sk-label-container {text-align: center;}#sk-container-id-10 div.sk-container {/* jupyter's `normalize.less` sets `[hidden] { display: none; }` but bootstrap.min.css set `[hidden] { display: none !important; }` so we also need the `!important` here to be able to override the default hidden behavior on the sphinx rendered scikit-learn.org. See: https://github.com/scikit-learn/scikit-learn/issues/21755 */display: inline-block !important;position: relative;}#sk-container-id-10 div.sk-text-repr-fallback {display: none;}</style><div id=\"sk-container-id-10\" class=\"sk-top-container\"><div class=\"sk-text-repr-fallback\"><pre>LinearRegression()</pre><b>In a Jupyter environment, please rerun this cell to show the HTML representation or trust the notebook. <br />On GitHub, the HTML representation is unable to render, please try loading this page with nbviewer.org.</b></div><div class=\"sk-container\" hidden><div class=\"sk-item\"><div class=\"sk-estimator sk-toggleable\"><input class=\"sk-toggleable__control sk-hidden--visually\" id=\"sk-estimator-id-10\" type=\"checkbox\" checked><label for=\"sk-estimator-id-10\" class=\"sk-toggleable__label sk-toggleable__label-arrow\">LinearRegression</label><div class=\"sk-toggleable__content\"><pre>LinearRegression()</pre></div></div></div></div></div>"
      ],
      "text/plain": [
       "LinearRegression()"
      ]
     },
     "execution_count": 214,
     "metadata": {},
     "output_type": "execute_result"
    }
   ],
   "source": [
    "# Modelling Regresi\n",
    "from sklearn.linear_model import LinearRegression\n",
    "regressor = LinearRegression()\n",
    "regressor.fit(X_train, y_train)"
   ]
  },
  {
   "cell_type": "code",
   "execution_count": 215,
   "id": "b8d7d403",
   "metadata": {},
   "outputs": [
    {
     "data": {
      "text/html": [
       "<div>\n",
       "<style scoped>\n",
       "    .dataframe tbody tr th:only-of-type {\n",
       "        vertical-align: middle;\n",
       "    }\n",
       "\n",
       "    .dataframe tbody tr th {\n",
       "        vertical-align: top;\n",
       "    }\n",
       "\n",
       "    .dataframe thead th {\n",
       "        text-align: right;\n",
       "    }\n",
       "</style>\n",
       "<table border=\"1\" class=\"dataframe\">\n",
       "  <thead>\n",
       "    <tr style=\"text-align: right;\">\n",
       "      <th></th>\n",
       "      <th>y_test</th>\n",
       "      <th>y_pred</th>\n",
       "    </tr>\n",
       "  </thead>\n",
       "  <tbody>\n",
       "    <tr>\n",
       "      <th>45</th>\n",
       "      <td>8.00</td>\n",
       "      <td>7.702808</td>\n",
       "    </tr>\n",
       "    <tr>\n",
       "      <th>41</th>\n",
       "      <td>6.75</td>\n",
       "      <td>5.883222</td>\n",
       "    </tr>\n",
       "    <tr>\n",
       "      <th>13</th>\n",
       "      <td>11.50</td>\n",
       "      <td>9.558320</td>\n",
       "    </tr>\n",
       "    <tr>\n",
       "      <th>2</th>\n",
       "      <td>12.00</td>\n",
       "      <td>9.497069</td>\n",
       "    </tr>\n",
       "    <tr>\n",
       "      <th>30</th>\n",
       "      <td>5.75</td>\n",
       "      <td>7.090300</td>\n",
       "    </tr>\n",
       "  </tbody>\n",
       "</table>\n",
       "</div>"
      ],
      "text/plain": [
       "    y_test    y_pred\n",
       "45    8.00  7.702808\n",
       "41    6.75  5.883222\n",
       "13   11.50  9.558320\n",
       "2    12.00  9.497069\n",
       "30    5.75  7.090300"
      ]
     },
     "execution_count": 215,
     "metadata": {},
     "output_type": "execute_result"
    }
   ],
   "source": [
    "# Perbandingan y test dan y predict\n",
    "y_pred = regressor.predict(X_test)\n",
    "evaluate = pd.DataFrame({\"y_test\":y_test, \"y_pred\":y_pred})\n",
    "evaluate.sample(n=5)"
   ]
  },
  {
   "cell_type": "code",
   "execution_count": 216,
   "id": "2b93da72",
   "metadata": {},
   "outputs": [
    {
     "name": "stdout",
     "output_type": "stream",
     "text": [
      "                                 OLS Regression Results                                \n",
      "=======================================================================================\n",
      "Dep. Variable:                   time   R-squared (uncentered):                   0.792\n",
      "Model:                            OLS   Adj. R-squared (uncentered):              0.785\n",
      "Method:                 Least Squares   F-statistic:                              110.2\n",
      "Date:                Thu, 05 Jan 2023   Prob (F-statistic):                    1.55e-29\n",
      "Time:                        00:42:56   Log-Likelihood:                         -242.76\n",
      "No. Observations:                  90   AIC:                                      491.5\n",
      "Df Residuals:                      87   BIC:                                      499.0\n",
      "Df Model:                           3                                                  \n",
      "Covariance Type:            nonrobust                                                  \n",
      "====================================================================================\n",
      "                       coef    std err          t      P>|t|      [0.025      0.975]\n",
      "------------------------------------------------------------------------------------\n",
      "age                  0.1690      0.022      7.593      0.000       0.125       0.213\n",
      "type                 0.5129      0.412      1.246      0.216      -0.305       1.331\n",
      "treatment_result     0.7240      0.808      0.896      0.372      -0.881       2.329\n",
      "==============================================================================\n",
      "Omnibus:                        2.203   Durbin-Watson:                   1.339\n",
      "Prob(Omnibus):                  0.332   Jarque-Bera (JB):                1.623\n",
      "Skew:                          -0.128   Prob(JB):                        0.444\n",
      "Kurtosis:                       2.394   Cond. No.                         72.4\n",
      "==============================================================================\n",
      "\n",
      "Notes:\n",
      "[1] R² is computed without centering (uncentered) since the model does not contain a constant.\n",
      "[2] Standard Errors assume that the covariance matrix of the errors is correctly specified.\n"
     ]
    }
   ],
   "source": [
    "# summary\n",
    "import statsmodels.api as sm\n",
    "model = sm.OLS(y, X).fit()\n",
    "print(model.summary())"
   ]
  },
  {
   "cell_type": "code",
   "execution_count": 217,
   "id": "3099ecef",
   "metadata": {},
   "outputs": [
    {
     "name": "stdout",
     "output_type": "stream",
     "text": [
      "LinearRegression\n",
      "Root Mean Squared Error (RMSE):  1.6982843532120606\n",
      "Mean Absolute Percentage Error (MAPE):  0.26634283408061776\n",
      "Coefficient of Determination (R2):  0.6111231805350688\n"
     ]
    }
   ],
   "source": [
    "# Evaluation\n",
    "print('LinearRegression')\n",
    "print(\"Root Mean Squared Error (RMSE): \", np.sqrt(mean_squared_error(y_test, y_pred)))\n",
    "print(\"Mean Absolute Percentage Error (MAPE): \", mean_absolute_percentage_error(y_test, y_pred))\n",
    "print(\"Coefficient of Determination (R2): \", r2_score(y_test, y_pred))"
   ]
  },
  {
   "cell_type": "markdown",
   "id": "d00fa0f4",
   "metadata": {},
   "source": [
    "# Data Modelling menggunakan Clustering"
   ]
  },
  {
   "cell_type": "code",
   "execution_count": 218,
   "id": "dda5298a",
   "metadata": {},
   "outputs": [
    {
     "data": {
      "text/html": [
       "<div>\n",
       "<style scoped>\n",
       "    .dataframe tbody tr th:only-of-type {\n",
       "        vertical-align: middle;\n",
       "    }\n",
       "\n",
       "    .dataframe tbody tr th {\n",
       "        vertical-align: top;\n",
       "    }\n",
       "\n",
       "    .dataframe thead th {\n",
       "        text-align: right;\n",
       "    }\n",
       "</style>\n",
       "<table border=\"1\" class=\"dataframe\">\n",
       "  <thead>\n",
       "    <tr style=\"text-align: right;\">\n",
       "      <th></th>\n",
       "      <th>0</th>\n",
       "      <th>1</th>\n",
       "      <th>2</th>\n",
       "    </tr>\n",
       "  </thead>\n",
       "  <tbody>\n",
       "    <tr>\n",
       "      <th>0</th>\n",
       "      <td>-0.867403</td>\n",
       "      <td>0.622988</td>\n",
       "      <td>-1.933091</td>\n",
       "    </tr>\n",
       "    <tr>\n",
       "      <th>1</th>\n",
       "      <td>-0.867403</td>\n",
       "      <td>-0.486709</td>\n",
       "      <td>-1.933091</td>\n",
       "    </tr>\n",
       "    <tr>\n",
       "      <th>2</th>\n",
       "      <td>-0.867403</td>\n",
       "      <td>2.083116</td>\n",
       "      <td>-1.933091</td>\n",
       "    </tr>\n",
       "    <tr>\n",
       "      <th>3</th>\n",
       "      <td>0.352382</td>\n",
       "      <td>-0.428304</td>\n",
       "      <td>-1.933091</td>\n",
       "    </tr>\n",
       "    <tr>\n",
       "      <th>4</th>\n",
       "      <td>1.572168</td>\n",
       "      <td>-0.428304</td>\n",
       "      <td>-1.933091</td>\n",
       "    </tr>\n",
       "  </tbody>\n",
       "</table>\n",
       "</div>"
      ],
      "text/plain": [
       "          0         1         2\n",
       "0 -0.867403  0.622988 -1.933091\n",
       "1 -0.867403 -0.486709 -1.933091\n",
       "2 -0.867403  2.083116 -1.933091\n",
       "3  0.352382 -0.428304 -1.933091\n",
       "4  1.572168 -0.428304 -1.933091"
      ]
     },
     "execution_count": 218,
     "metadata": {},
     "output_type": "execute_result"
    }
   ],
   "source": [
    "# Data Transformation\n",
    "df = df.drop(['gender', 'time', 'number_of_warts', 'area', 'age'], axis=1)\n",
    "\n",
    "sc = StandardScaler()\n",
    "df = pd.DataFrame(sc.fit_transform(df))\n",
    "df.head()"
   ]
  },
  {
   "cell_type": "code",
   "execution_count": 219,
   "id": "6fe98721",
   "metadata": {
    "scrolled": true
   },
   "outputs": [
    {
     "name": "stderr",
     "output_type": "stream",
     "text": [
      "C:\\Users\\User\\anaconda3\\lib\\site-packages\\sklearn\\cluster\\_kmeans.py:1334: UserWarning: KMeans is known to have a memory leak on Windows with MKL, when there are less chunks than available threads. You can avoid it by setting the environment variable OMP_NUM_THREADS=1.\n",
      "  warnings.warn(\n",
      "C:\\Users\\User\\anaconda3\\lib\\site-packages\\sklearn\\cluster\\_kmeans.py:1334: UserWarning: KMeans is known to have a memory leak on Windows with MKL, when there are less chunks than available threads. You can avoid it by setting the environment variable OMP_NUM_THREADS=1.\n",
      "  warnings.warn(\n",
      "C:\\Users\\User\\anaconda3\\lib\\site-packages\\sklearn\\cluster\\_kmeans.py:1334: UserWarning: KMeans is known to have a memory leak on Windows with MKL, when there are less chunks than available threads. You can avoid it by setting the environment variable OMP_NUM_THREADS=1.\n",
      "  warnings.warn(\n",
      "C:\\Users\\User\\anaconda3\\lib\\site-packages\\sklearn\\cluster\\_kmeans.py:1334: UserWarning: KMeans is known to have a memory leak on Windows with MKL, when there are less chunks than available threads. You can avoid it by setting the environment variable OMP_NUM_THREADS=1.\n",
      "  warnings.warn(\n",
      "C:\\Users\\User\\anaconda3\\lib\\site-packages\\sklearn\\cluster\\_kmeans.py:1334: UserWarning: KMeans is known to have a memory leak on Windows with MKL, when there are less chunks than available threads. You can avoid it by setting the environment variable OMP_NUM_THREADS=1.\n",
      "  warnings.warn(\n",
      "C:\\Users\\User\\anaconda3\\lib\\site-packages\\sklearn\\cluster\\_kmeans.py:1334: UserWarning: KMeans is known to have a memory leak on Windows with MKL, when there are less chunks than available threads. You can avoid it by setting the environment variable OMP_NUM_THREADS=1.\n",
      "  warnings.warn(\n",
      "C:\\Users\\User\\anaconda3\\lib\\site-packages\\sklearn\\cluster\\_kmeans.py:1334: UserWarning: KMeans is known to have a memory leak on Windows with MKL, when there are less chunks than available threads. You can avoid it by setting the environment variable OMP_NUM_THREADS=1.\n",
      "  warnings.warn(\n",
      "C:\\Users\\User\\anaconda3\\lib\\site-packages\\sklearn\\cluster\\_kmeans.py:1334: UserWarning: KMeans is known to have a memory leak on Windows with MKL, when there are less chunks than available threads. You can avoid it by setting the environment variable OMP_NUM_THREADS=1.\n",
      "  warnings.warn(\n",
      "C:\\Users\\User\\anaconda3\\lib\\site-packages\\sklearn\\cluster\\_kmeans.py:1334: UserWarning: KMeans is known to have a memory leak on Windows with MKL, when there are less chunks than available threads. You can avoid it by setting the environment variable OMP_NUM_THREADS=1.\n",
      "  warnings.warn(\n",
      "C:\\Users\\User\\anaconda3\\lib\\site-packages\\sklearn\\cluster\\_kmeans.py:1334: UserWarning: KMeans is known to have a memory leak on Windows with MKL, when there are less chunks than available threads. You can avoid it by setting the environment variable OMP_NUM_THREADS=1.\n",
      "  warnings.warn(\n"
     ]
    },
    {
     "data": {
      "image/png": "[encoded data removed]",
      "text/plain": [
       "<Figure size 432x288 with 1 Axes>"
      ]
     },
     "metadata": {
      "needs_background": "light"
     },
     "output_type": "display_data"
    }
   ],
   "source": [
    "# Menentukan K untuk KMeans\n",
    "ssquares = []\n",
    "for i in range(1,11) :\n",
    "  km = KMeans(n_clusters=i, max_iter=500, random_state=32)\n",
    "  km.fit(df)\n",
    "  ssquares.append(km.inertia_)\n",
    "plt.plot(range(1,11), ssquares, marker = '.')\n",
    "plt.xlabel('Number of Clusters')\n",
    "plt.ylabel('Inertia')\n",
    "plt.show()"
   ]
  },
  {
   "cell_type": "code",
   "execution_count": 220,
   "id": "72511c4a",
   "metadata": {},
   "outputs": [
    {
     "name": "stdout",
     "output_type": "stream",
     "text": [
      "the best k for your model is  4\n"
     ]
    }
   ],
   "source": [
    "# Menentukan K untuk KMeans\n",
    "from kneed import KneeLocator\n",
    "\n",
    "findknee = KneeLocator(range(1,11), ssquares, curve=\"convex\", direction=\"decreasing\")\n",
    "print(\"the best k for your model is \", findknee.elbow)"
   ]
  },
  {
   "cell_type": "code",
   "execution_count": 221,
   "id": "59d6b5df",
   "metadata": {},
   "outputs": [
    {
     "name": "stderr",
     "output_type": "stream",
     "text": [
      "C:\\Users\\User\\anaconda3\\lib\\site-packages\\sklearn\\cluster\\_kmeans.py:1334: UserWarning: KMeans is known to have a memory leak on Windows with MKL, when there are less chunks than available threads. You can avoid it by setting the environment variable OMP_NUM_THREADS=1.\n",
      "  warnings.warn(\n"
     ]
    }
   ],
   "source": [
    "# Pemodelan\n",
    "km_model = KMeans(n_clusters = findknee.elbow, random_state=1)\n",
    "y_kmeans = km_model.fit_predict(df)"
   ]
  },
  {
   "cell_type": "code",
   "execution_count": 222,
   "id": "31524033",
   "metadata": {},
   "outputs": [
    {
     "name": "stdout",
     "output_type": "stream",
     "text": [
      "0.6138023567152335\n"
     ]
    }
   ],
   "source": [
    "# Evaluation\n",
    "from sklearn.metrics import silhouette_score\n",
    "  \n",
    "ss = silhouette_score(df, km_model.labels_, metric='euclidean')\n",
    "print(ss)"
   ]
  },
  {
   "cell_type": "code",
   "execution_count": 223,
   "id": "47840443",
   "metadata": {},
   "outputs": [
    {
     "data": {
      "text/html": [
       "<div>\n",
       "<style scoped>\n",
       "    .dataframe tbody tr th:only-of-type {\n",
       "        vertical-align: middle;\n",
       "    }\n",
       "\n",
       "    .dataframe tbody tr th {\n",
       "        vertical-align: top;\n",
       "    }\n",
       "\n",
       "    .dataframe thead th {\n",
       "        text-align: right;\n",
       "    }\n",
       "</style>\n",
       "<table border=\"1\" class=\"dataframe\">\n",
       "  <thead>\n",
       "    <tr style=\"text-align: right;\">\n",
       "      <th></th>\n",
       "      <th>gender</th>\n",
       "      <th>age</th>\n",
       "      <th>time</th>\n",
       "      <th>number_of_warts</th>\n",
       "      <th>tipe</th>\n",
       "      <th>area</th>\n",
       "      <th>induration_diameter</th>\n",
       "      <th>treatment_result</th>\n",
       "      <th>count</th>\n",
       "    </tr>\n",
       "    <tr>\n",
       "      <th>K means</th>\n",
       "      <th></th>\n",
       "      <th></th>\n",
       "      <th></th>\n",
       "      <th></th>\n",
       "      <th></th>\n",
       "      <th></th>\n",
       "      <th></th>\n",
       "      <th></th>\n",
       "      <th></th>\n",
       "    </tr>\n",
       "  </thead>\n",
       "  <tbody>\n",
       "    <tr>\n",
       "      <th>0</th>\n",
       "      <td>1.0</td>\n",
       "      <td>31.480000</td>\n",
       "      <td>7.600000</td>\n",
       "      <td>7.040000</td>\n",
       "      <td>2.0</td>\n",
       "      <td>59.040000</td>\n",
       "      <td>6.360000</td>\n",
       "      <td>1.0</td>\n",
       "      <td>25</td>\n",
       "    </tr>\n",
       "    <tr>\n",
       "      <th>1</th>\n",
       "      <td>2.0</td>\n",
       "      <td>28.694444</td>\n",
       "      <td>6.784722</td>\n",
       "      <td>5.055556</td>\n",
       "      <td>1.0</td>\n",
       "      <td>115.444444</td>\n",
       "      <td>8.722222</td>\n",
       "      <td>1.0</td>\n",
       "      <td>36</td>\n",
       "    </tr>\n",
       "    <tr>\n",
       "      <th>2</th>\n",
       "      <td>2.0</td>\n",
       "      <td>35.473684</td>\n",
       "      <td>9.381579</td>\n",
       "      <td>6.421053</td>\n",
       "      <td>1.0</td>\n",
       "      <td>84.315789</td>\n",
       "      <td>15.368421</td>\n",
       "      <td>0.0</td>\n",
       "      <td>19</td>\n",
       "    </tr>\n",
       "    <tr>\n",
       "      <th>3</th>\n",
       "      <td>[1.0, 2.0]</td>\n",
       "      <td>30.000000</td>\n",
       "      <td>3.900000</td>\n",
       "      <td>7.100000</td>\n",
       "      <td>3.0</td>\n",
       "      <td>137.900000</td>\n",
       "      <td>52.500000</td>\n",
       "      <td>1.0</td>\n",
       "      <td>10</td>\n",
       "    </tr>\n",
       "  </tbody>\n",
       "</table>\n",
       "</div>"
      ],
      "text/plain": [
       "             gender        age      time  number_of_warts  tipe        area  \\\n",
       "K means                                                                       \n",
       "0               1.0  31.480000  7.600000         7.040000   2.0   59.040000   \n",
       "1               2.0  28.694444  6.784722         5.055556   1.0  115.444444   \n",
       "2               2.0  35.473684  9.381579         6.421053   1.0   84.315789   \n",
       "3        [1.0, 2.0]  30.000000  3.900000         7.100000   3.0  137.900000   \n",
       "\n",
       "         induration_diameter  treatment_result  count  \n",
       "K means                                                \n",
       "0                   6.360000               1.0     25  \n",
       "1                   8.722222               1.0     36  \n",
       "2                  15.368421               0.0     19  \n",
       "3                  52.500000               1.0     10  "
      ]
     },
     "execution_count": 223,
     "metadata": {},
     "output_type": "execute_result"
    }
   ],
   "source": [
    "# Table of summary\n",
    "df2['K means'] = y_kmeans\n",
    "df2.groupby('K means').agg(gender = ('gender', pd.Series.mode), age = ('age', 'mean'), time = ('time', 'mean'), number_of_warts = ('number_of_warts', 'mean'), tipe = ('type', pd.Series.mode), area = ('area', 'mean'), induration_diameter = ('induration_diameter', 'mean'), treatment_result = ('treatment_result', pd.Series.mode), count = ('K means', pd.Series.count))"
   ]
  },
  {
   "cell_type": "code",
   "execution_count": 224,
   "id": "5b6d8263",
   "metadata": {},
   "outputs": [
    {
     "data": {
      "text/plain": [
       "<function matplotlib.pyplot.show(close=None, block=None)>"
      ]
     },
     "execution_count": 224,
     "metadata": {},
     "output_type": "execute_result"
    },
    {
     "data": {
      "image/png": "[encoded data removed]",
      "text/plain": [
       "<Figure size 432x288 with 1 Axes>"
      ]
     },
     "metadata": {
      "needs_background": "light"
     },
     "output_type": "display_data"
    }
   ],
   "source": [
    "# Max Distance\n",
    "dist_matrix = sch.linkage(df, method='complete')\n",
    "dn = sch.dendrogram(dist_matrix)\n",
    "plt.title('Dendogram')\n",
    "plt.show"
   ]
  },
  {
   "cell_type": "code",
   "execution_count": 225,
   "id": "d76c7de4",
   "metadata": {},
   "outputs": [
    {
     "data": {
      "text/plain": [
       "<function matplotlib.pyplot.show(close=None, block=None)>"
      ]
     },
     "execution_count": 225,
     "metadata": {},
     "output_type": "execute_result"
    },
    {
     "data": {
      "image/png": "[encoded data removed]",
      "text/plain": [
       "<Figure size 432x288 with 1 Axes>"
      ]
     },
     "metadata": {
      "needs_background": "light"
     },
     "output_type": "display_data"
    }
   ],
   "source": [
    "# Min Distance\n",
    "dist_matrix = sch.linkage(df, method='single')\n",
    "dn = sch.dendrogram(dist_matrix)\n",
    "plt.title('Dendogram')\n",
    "plt.show"
   ]
  },
  {
   "cell_type": "code",
   "execution_count": 226,
   "id": "95f651f4",
   "metadata": {},
   "outputs": [
    {
     "data": {
      "text/plain": [
       "<function matplotlib.pyplot.show(close=None, block=None)>"
      ]
     },
     "execution_count": 226,
     "metadata": {},
     "output_type": "execute_result"
    },
    {
     "data": {
      "image/png": "[encoded data removed]",
      "text/plain": [
       "<Figure size 432x288 with 1 Axes>"
      ]
     },
     "metadata": {
      "needs_background": "light"
     },
     "output_type": "display_data"
    }
   ],
   "source": [
    "# Average Distance\n",
    "dist_matrix = sch.linkage(df, method='average')\n",
    "dn = sch.dendrogram(dist_matrix)\n",
    "plt.title('Dendogram')\n",
    "plt.show"
   ]
  },
  {
   "cell_type": "code",
   "execution_count": 227,
   "id": "7125d9da",
   "metadata": {},
   "outputs": [],
   "source": [
    "# Hierarchical Clustering\n",
    "hc = AgglomerativeClustering(n_clusters=3, affinity='euclidean')\n",
    "y_hc = hc.fit_predict(df)"
   ]
  },
  {
   "cell_type": "code",
   "execution_count": 228,
   "id": "28b10983",
   "metadata": {},
   "outputs": [
    {
     "name": "stdout",
     "output_type": "stream",
     "text": [
      "0.5447961337626296\n"
     ]
    }
   ],
   "source": [
    "# Evaluation\n",
    "from sklearn.metrics import silhouette_score\n",
    "  \n",
    "ss = silhouette_score(df, y_hc)\n",
    "print(ss)"
   ]
  },
  {
   "cell_type": "code",
   "execution_count": 229,
   "id": "83ea55aa",
   "metadata": {},
   "outputs": [
    {
     "data": {
      "text/html": [
       "<div>\n",
       "<style scoped>\n",
       "    .dataframe tbody tr th:only-of-type {\n",
       "        vertical-align: middle;\n",
       "    }\n",
       "\n",
       "    .dataframe tbody tr th {\n",
       "        vertical-align: top;\n",
       "    }\n",
       "\n",
       "    .dataframe thead th {\n",
       "        text-align: right;\n",
       "    }\n",
       "</style>\n",
       "<table border=\"1\" class=\"dataframe\">\n",
       "  <thead>\n",
       "    <tr style=\"text-align: right;\">\n",
       "      <th></th>\n",
       "      <th>gender</th>\n",
       "      <th>age</th>\n",
       "      <th>time</th>\n",
       "      <th>number_of_warts</th>\n",
       "      <th>tipe</th>\n",
       "      <th>area</th>\n",
       "      <th>induration_diameter</th>\n",
       "      <th>treatment_result</th>\n",
       "      <th>count</th>\n",
       "    </tr>\n",
       "    <tr>\n",
       "      <th>Hierarchical Cluster</th>\n",
       "      <th></th>\n",
       "      <th></th>\n",
       "      <th></th>\n",
       "      <th></th>\n",
       "      <th></th>\n",
       "      <th></th>\n",
       "      <th></th>\n",
       "      <th></th>\n",
       "      <th></th>\n",
       "    </tr>\n",
       "  </thead>\n",
       "  <tbody>\n",
       "    <tr>\n",
       "      <th>0</th>\n",
       "      <td>2.0</td>\n",
       "      <td>29.450000</td>\n",
       "      <td>7.070833</td>\n",
       "      <td>5.950000</td>\n",
       "      <td>1.0</td>\n",
       "      <td>93.366667</td>\n",
       "      <td>7.466667</td>\n",
       "      <td>1.0</td>\n",
       "      <td>60</td>\n",
       "    </tr>\n",
       "    <tr>\n",
       "      <th>1</th>\n",
       "      <td>2.0</td>\n",
       "      <td>35.473684</td>\n",
       "      <td>9.381579</td>\n",
       "      <td>6.421053</td>\n",
       "      <td>1.0</td>\n",
       "      <td>84.315789</td>\n",
       "      <td>15.368421</td>\n",
       "      <td>0.0</td>\n",
       "      <td>19</td>\n",
       "    </tr>\n",
       "    <tr>\n",
       "      <th>2</th>\n",
       "      <td>2.0</td>\n",
       "      <td>32.090909</td>\n",
       "      <td>4.454545</td>\n",
       "      <td>6.545455</td>\n",
       "      <td>3.0</td>\n",
       "      <td>128.090909</td>\n",
       "      <td>50.000000</td>\n",
       "      <td>1.0</td>\n",
       "      <td>11</td>\n",
       "    </tr>\n",
       "  </tbody>\n",
       "</table>\n",
       "</div>"
      ],
      "text/plain": [
       "                      gender        age      time  number_of_warts  tipe  \\\n",
       "Hierarchical Cluster                                                       \n",
       "0                        2.0  29.450000  7.070833         5.950000   1.0   \n",
       "1                        2.0  35.473684  9.381579         6.421053   1.0   \n",
       "2                        2.0  32.090909  4.454545         6.545455   3.0   \n",
       "\n",
       "                            area  induration_diameter  treatment_result  count  \n",
       "Hierarchical Cluster                                                            \n",
       "0                      93.366667             7.466667               1.0     60  \n",
       "1                      84.315789            15.368421               0.0     19  \n",
       "2                     128.090909            50.000000               1.0     11  "
      ]
     },
     "execution_count": 229,
     "metadata": {},
     "output_type": "execute_result"
    }
   ],
   "source": [
    "# Table of Summary\n",
    "df2['Hierarchical Cluster'] = y_hc\n",
    "df2.groupby('Hierarchical Cluster').agg(gender = ('gender', pd.Series.mode), age = ('age', 'mean'), time = ('time', 'mean'), number_of_warts = ('number_of_warts', 'mean'), tipe = ('type', pd.Series.mode), area = ('area', 'mean'), induration_diameter = ('induration_diameter', 'mean'), treatment_result = ('treatment_result', pd.Series.mode), count = ('Hierarchical Cluster', pd.Series.count))"
   ]
  },
  {
   "cell_type": "code",
   "execution_count": 230,
   "id": "177d6675",
   "metadata": {},
   "outputs": [
    {
     "data": {
      "text/html": [
       "<div>\n",
       "<style scoped>\n",
       "    .dataframe tbody tr th:only-of-type {\n",
       "        vertical-align: middle;\n",
       "    }\n",
       "\n",
       "    .dataframe tbody tr th {\n",
       "        vertical-align: top;\n",
       "    }\n",
       "\n",
       "    .dataframe thead th {\n",
       "        text-align: right;\n",
       "    }\n",
       "</style>\n",
       "<table border=\"1\" class=\"dataframe\">\n",
       "  <thead>\n",
       "    <tr style=\"text-align: right;\">\n",
       "      <th></th>\n",
       "      <th>gender</th>\n",
       "      <th>age</th>\n",
       "      <th>time</th>\n",
       "      <th>number_of_warts</th>\n",
       "      <th>type</th>\n",
       "      <th>area</th>\n",
       "      <th>induration_diameter</th>\n",
       "      <th>treatment_result</th>\n",
       "      <th>K means</th>\n",
       "      <th>Hierarchical Cluster</th>\n",
       "    </tr>\n",
       "  </thead>\n",
       "  <tbody>\n",
       "    <tr>\n",
       "      <th>0</th>\n",
       "      <td>1.0</td>\n",
       "      <td>15</td>\n",
       "      <td>11.00</td>\n",
       "      <td>6</td>\n",
       "      <td>1.0</td>\n",
       "      <td>30</td>\n",
       "      <td>25.0</td>\n",
       "      <td>0.0</td>\n",
       "      <td>2</td>\n",
       "      <td>1</td>\n",
       "    </tr>\n",
       "    <tr>\n",
       "      <th>1</th>\n",
       "      <td>1.0</td>\n",
       "      <td>27</td>\n",
       "      <td>11.75</td>\n",
       "      <td>6</td>\n",
       "      <td>1.0</td>\n",
       "      <td>208</td>\n",
       "      <td>6.0</td>\n",
       "      <td>0.0</td>\n",
       "      <td>2</td>\n",
       "      <td>1</td>\n",
       "    </tr>\n",
       "    <tr>\n",
       "      <th>2</th>\n",
       "      <td>1.0</td>\n",
       "      <td>32</td>\n",
       "      <td>12.00</td>\n",
       "      <td>9</td>\n",
       "      <td>1.0</td>\n",
       "      <td>43</td>\n",
       "      <td>50.0</td>\n",
       "      <td>0.0</td>\n",
       "      <td>2</td>\n",
       "      <td>1</td>\n",
       "    </tr>\n",
       "    <tr>\n",
       "      <th>3</th>\n",
       "      <td>1.0</td>\n",
       "      <td>33</td>\n",
       "      <td>1.75</td>\n",
       "      <td>7</td>\n",
       "      <td>2.0</td>\n",
       "      <td>379</td>\n",
       "      <td>7.0</td>\n",
       "      <td>0.0</td>\n",
       "      <td>2</td>\n",
       "      <td>1</td>\n",
       "    </tr>\n",
       "    <tr>\n",
       "      <th>4</th>\n",
       "      <td>1.0</td>\n",
       "      <td>34</td>\n",
       "      <td>5.00</td>\n",
       "      <td>7</td>\n",
       "      <td>3.0</td>\n",
       "      <td>64</td>\n",
       "      <td>7.0</td>\n",
       "      <td>0.0</td>\n",
       "      <td>2</td>\n",
       "      <td>1</td>\n",
       "    </tr>\n",
       "  </tbody>\n",
       "</table>\n",
       "</div>"
      ],
      "text/plain": [
       "   gender  age   time  number_of_warts  type  area  induration_diameter  \\\n",
       "0     1.0   15  11.00                6   1.0    30                 25.0   \n",
       "1     1.0   27  11.75                6   1.0   208                  6.0   \n",
       "2     1.0   32  12.00                9   1.0    43                 50.0   \n",
       "3     1.0   33   1.75                7   2.0   379                  7.0   \n",
       "4     1.0   34   5.00                7   3.0    64                  7.0   \n",
       "\n",
       "   treatment_result  K means  Hierarchical Cluster  \n",
       "0               0.0        2                     1  \n",
       "1               0.0        2                     1  \n",
       "2               0.0        2                     1  \n",
       "3               0.0        2                     1  \n",
       "4               0.0        2                     1  "
      ]
     },
     "execution_count": 230,
     "metadata": {},
     "output_type": "execute_result"
    }
   ],
   "source": [
    "df2.head()"
   ]
  }
 ],
 "metadata": {
  "kernelspec": {
   "display_name": "Python 3",
   "language": "python",
   "name": "python3"
  },
  "language_info": {
   "codemirror_mode": {
    "name": "ipython",
    "version": 3
   },
   "file_extension": ".py",
   "mimetype": "text/x-python",
   "name": "python",
   "nbconvert_exporter": "python",
   "pygments_lexer": "ipython3",
   "version": "3.8.8"
  }
 },
 "nbformat": 4,
 "nbformat_minor": 5
}
